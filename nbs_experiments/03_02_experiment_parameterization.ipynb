{
 "cells": [
  {
   "cell_type": "code",
   "execution_count": null,
   "metadata": {},
   "outputs": [],
   "source": [
    "from orbit_generation.experiment import generate_parameter_sets, paralelize_notebook_experiment"
   ]
  },
  {
   "cell_type": "markdown",
   "metadata": {},
   "source": [
    "Parameters"
   ]
  },
  {
   "cell_type": "code",
   "execution_count": 2,
   "metadata": {},
   "outputs": [],
   "source": [
    "params = {\n",
    "    # Data\n",
    "    'data_used': 'EM_N_fix_1500',\n",
    "    'families_to_discard': [0, 5, 10, 20, 30],\n",
    "    'seq_len': 100,\n",
    "    'feature_dim': 7,\n",
    "    \n",
    "    # Training\n",
    "    'epochs': 50,\n",
    "    'val_split': 0.05,\n",
    "    'batch_size': 32,\n",
    "    'lr': 0.001,\n",
    "    \n",
    "    # Model\n",
    "    'model_name': ['vae_conv5_legit', 'inception_time_wp_vae'],\n",
    "    'latent_dim': [2, 6],\n",
    "    'beta': [0.001, 0.2, 0.5, 1, 1.5, 2, 10],\n",
    "    \n",
    "    # Convergence\n",
    "    'max_iter_convergence': 20,\n",
    "    'input_seq_len_convergence': 1,\n",
    "    \n",
    "    # Evaluation\n",
    "    'samples_to_generate': 100,\n",
    "    'distance_metric': 'euclidean'\n",
    "}"
   ]
  },
  {
   "cell_type": "code",
   "execution_count": 3,
   "metadata": {},
   "outputs": [],
   "source": [
    "model_specific_params = {\n",
    "    'vae_conv5_legit': {\n",
    "        'dropout_rate': 0.2\n",
    "    },\n",
    "    'inception_time_wp_vae': {\n",
    "        'n_filters': 32,\n",
    "        'kernel_sizes': [3, 7, 13],\n",
    "        'bottleneck_channels': 32\n",
    "    }\n",
    "}"
   ]
  },
  {
   "cell_type": "markdown",
   "metadata": {},
   "source": [
    "Parameter Set"
   ]
  },
  {
   "cell_type": "code",
   "execution_count": 4,
   "metadata": {},
   "outputs": [],
   "source": [
    "parameter_sets = generate_parameter_sets(params, model_specific_params)"
   ]
  },
  {
   "cell_type": "code",
   "execution_count": 5,
   "metadata": {},
   "outputs": [
    {
     "data": {
      "text/plain": [
       "140"
      ]
     },
     "execution_count": 5,
     "metadata": {},
     "output_type": "execute_result"
    }
   ],
   "source": [
    "len(parameter_sets)"
   ]
  },
  {
   "cell_type": "code",
   "execution_count": null,
   "metadata": {},
   "outputs": [
    {
     "data": {
      "text/plain": [
       "[{'data_used': 'EM_N_fix_1500',\n",
       "  'families_to_discard': 5,\n",
       "  'seq_len': 100,\n",
       "  'feature_dim': 7,\n",
       "  'epochs': 50,\n",
       "  'val_split': 0.05,\n",
       "  'batch_size': 32,\n",
       "  'lr': 0.001,\n",
       "  'model_name': 'inception_time_wp_vae',\n",
       "  'latent_dim': 6,\n",
       "  'max_iter_convergence': 20,\n",
       "  'input_seq_len_convergence': 1,\n",
       "  'samples_to_generate': 100,\n",
       "  'distance_metric': 'euclidean',\n",
       "  'model_kwargs': {'n_filters': 32,\n",
       "   'kernel_sizes': [3, 7, 13],\n",
       "   'bottleneck_channels': 32,\n",
       "   'beta': 1.5}},\n",
       " {'data_used': 'EM_N_fix_1500',\n",
       "  'families_to_discard': 20,\n",
       "  'seq_len': 100,\n",
       "  'feature_dim': 7,\n",
       "  'epochs': 50,\n",
       "  'val_split': 0.05,\n",
       "  'batch_size': 32,\n",
       "  'lr': 0.001,\n",
       "  'model_name': 'vae_conv5_legit',\n",
       "  'latent_dim': 6,\n",
       "  'max_iter_convergence': 20,\n",
       "  'input_seq_len_convergence': 1,\n",
       "  'samples_to_generate': 100,\n",
       "  'distance_metric': 'euclidean',\n",
       "  'model_kwargs': {'dropout_rate': 0.2, 'beta': 10}},\n",
       " {'data_used': 'EM_N_fix_1500',\n",
       "  'families_to_discard': 5,\n",
       "  'seq_len': 100,\n",
       "  'feature_dim': 7,\n",
       "  'epochs': 50,\n",
       "  'val_split': 0.05,\n",
       "  'batch_size': 32,\n",
       "  'lr': 0.001,\n",
       "  'model_name': 'inception_time_wp_vae',\n",
       "  'latent_dim': 2,\n",
       "  'max_iter_convergence': 20,\n",
       "  'input_seq_len_convergence': 1,\n",
       "  'samples_to_generate': 100,\n",
       "  'distance_metric': 'euclidean',\n",
       "  'model_kwargs': {'n_filters': 32,\n",
       "   'kernel_sizes': [3, 7, 13],\n",
       "   'bottleneck_channels': 32,\n",
       "   'beta': 0.5}}]"
      ]
     },
     "execution_count": 8,
     "metadata": {},
     "output_type": "execute_result"
    }
   ],
   "source": [
    "import random\n",
    "\n",
    "random_parameter_sets = random.sample(parameter_sets, 3)\n",
    "\n",
    "random_parameter_sets\n"
   ]
  },
  {
   "cell_type": "code",
   "execution_count": null,
   "metadata": {},
   "outputs": [
    {
     "name": "stderr",
     "output_type": "stream",
     "text": [
      "WARNING:papermill:Trainer will use only 1 of 3 GPUs because it is running inside an interactive / notebook environment. You may try to set `Trainer(devices=3)` but please note that multi-GPU inside interactive / notebook environments is considered experimental and unstable. Your mileage may vary.\n",
      "\n",
      "WARNING:papermill:GPU available: True (cuda), used: True\n",
      "\n",
      "WARNING:papermill:TPU available: False, using: 0 TPU cores\n",
      "\n",
      "WARNING:papermill:HPU available: False, using: 0 HPUs\n",
      "\n",
      "WARNING:papermill:/usr/local/lib/python3.10/dist-packages/pytorch_lightning/trainer/connectors/logger_connector/logger_connector.py:75: Starting from v1.9.0, `tensorboardX` has been removed as a dependency of the `pytorch_lightning` package, due to potential conflicts with other packages in the ML ecosystem. For this reason, `logger=True` will use `CSVLogger` as the default logger, unless the `tensorboard` or `tensorboardX` packages are found. Please `pip install lightning[extra]` or one of them to enable TensorBoard support by default\n",
      "You are using a CUDA device ('NVIDIA GeForce RTX 3090') that has Tensor Cores. To properly utilize them, you should set `torch.set_float32_matmul_precision('medium' | 'high')` which will trade-off precision for performance. For more details, read https://pytorch.org/docs/stable/generated/torch.set_float32_matmul_precision.html#torch.set_float32_matmul_precision\n",
      "\n",
      "WARNING:papermill:LOCAL_RANK: 0 - CUDA_VISIBLE_DEVICES: [0,1,2]\n",
      "\n",
      "WARNING:papermill:\n",
      "  | Name          | Type                      | Params | Mode \n",
      "--------------------------------------------------------------------\n",
      "0 | encoder       | WPInceptionTimeVAEEncoder | 5.2 M  | train\n",
      "1 | decoder       | WPInceptionTimeVAEDecoder | 5.7 M  | train\n",
      "2 | sampling      | Sampling                  | 0      | train\n",
      "3 | train_metrics | MetricCollection          | 0      | train\n",
      "4 | val_metrics   | MetricCollection          | 0      | train\n",
      "--------------------------------------------------------------------\n",
      "10.9 M    Trainable params\n",
      "0         Non-trainable params\n",
      "10.9 M    Total params\n",
      "43.591    Total estimated model params size (MB)\n",
      "166       Modules in train mode\n",
      "0         Modules in eval mode\n",
      "\n"
     ]
    }
   ],
   "source": [
    "notebook_to_execute = '03_01_generative_discovery.ipynb'\n",
    "output_dir = \"../experiments/03_01_generative_discovery\"\n",
    "checkpoint_file = '../experiments/experiment_checkpoint.json'\n",
    "# notebook_to_output = '03_01_generative_discovery1.ipynb'\n",
    "\n",
    "paralelize_notebook_experiment(\n",
    "    random_parameter_sets,\n",
    "    notebook_to_execute=notebook_to_execute,\n",
    "    output_dir=output_dir,\n",
    "    checkpoint_file=checkpoint_file,\n",
    "    max_workers=1\n",
    ")"
   ]
  }
 ],
 "metadata": {
  "kernelspec": {
   "display_name": "Python (PyTorch)",
   "language": "python",
   "name": "pytorch"
  },
  "language_info": {
   "codemirror_mode": {
    "name": "ipython",
    "version": 3
   },
   "file_extension": ".py",
   "mimetype": "text/x-python",
   "name": "python",
   "nbconvert_exporter": "python",
   "pygments_lexer": "ipython3",
   "version": "3.10.12"
  }
 },
 "nbformat": 4,
 "nbformat_minor": 2
}
