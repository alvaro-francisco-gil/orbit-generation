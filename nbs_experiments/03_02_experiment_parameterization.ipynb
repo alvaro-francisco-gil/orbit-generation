{
 "cells": [
  {
   "cell_type": "code",
   "execution_count": null,
   "metadata": {},
   "outputs": [],
   "source": [
    "import papermill as pm\n",
    "from nbconvert import PDFExporter\n",
    "import nbformat"
   ]
  },
  {
   "cell_type": "code",
   "execution_count": null,
   "metadata": {},
   "outputs": [],
   "source": [
    "# Define parameter sets\n",
    "parameter_sets = [\n",
    "    {\"alpha\": 0.3, \"n_iterations\": 150, \"learning_rate\": 0.02},\n",
    "    {\"alpha\": 0.7, \"n_iterations\": 200, \"learning_rate\": 0.01},\n",
    "    # Add more parameter sets as needed\n",
    "]\n",
    "\n",
    "# Create a PDF exporter\n",
    "pdf_exporter = PDFExporter()\n",
    "pdf_exporter.exclude_input = True  # This will hide the input cells in the PDF\n",
    "\n",
    "# Execute the notebook for each parameter set and convert to PDF\n",
    "for i, params in enumerate(parameter_sets):\n",
    "    # Execute the notebook\n",
    "    output_notebook = f'output_notebook_{i}.ipynb'\n",
    "    pm.execute_notebook(\n",
    "        'input_notebook.ipynb',\n",
    "        output_notebook,\n",
    "        parameters=params\n",
    "    )\n",
    "    \n",
    "    # Read the executed notebook\n",
    "    with open(output_notebook, 'r', encoding='utf-8') as f:\n",
    "        nb = nbformat.read(f, as_version=4)\n",
    "    \n",
    "    # Convert to PDF\n",
    "    pdf_data, _ = pdf_exporter.from_notebook_node(nb)\n",
    "    \n",
    "    # Save the PDF\n",
    "    with open(f'output_notebook_{i}.pdf', 'wb') as f:\n",
    "        f.write(pdf_data)"
   ]
  },
  {
   "cell_type": "code",
   "execution_count": null,
   "metadata": {},
   "outputs": [],
   "source": [
    "params = {\n",
    "    # Data\n",
    "    'data_used': os.path.splitext(os.path.basename(data_path))[0],\n",
    "    'families_to_discard': [1, 2, 5, 10, 20],\n",
    "    'seq_len': [100, 150, 200],\n",
    "    'feature_dim': 7,\n",
    "    # Training\n",
    "    'epochs': [15, 20, 25],\n",
    "    'val_split': [0.05, 0.1],\n",
    "    'batch_size': [32, 64],\n",
    "    'lr': [0.001, 0.0005, 0.0001],\n",
    "    # Model\n",
    "    'model_name': 'inception_time_wp_vae',\n",
    "    'latent_dim': [2, 3, 4],\n",
    "    'model_kwargs': {\n",
    "        'beta': [0.5, 1, 1.5],\n",
    "        'n_filters': [32, 64],\n",
    "        'kernel_sizes': [[3, 5, 13], [3, 7, 11]],\n",
    "        'bottleneck_channels': [32, 64]\n",
    "    },\n",
    "    # Convergence\n",
    "    'max_iter_convergence': [20, 30],\n",
    "    'input_seq_len_convergence': [100, 150],\n",
    "    # Evaluation\n",
    "    'samples_to_generate': [100, 200],\n",
    "    'distance_metric': 'euclidean'\n",
    "}"
   ]
  },
  {
   "cell_type": "code",
   "execution_count": null,
   "metadata": {},
   "outputs": [],
   "source": [
    "import itertools\n",
    "\n",
    "def generate_parameter_sets(params):\n",
    "    keys, values = zip(*params.items())\n",
    "    combinations = [dict(zip(keys, v)) for v in itertools.product(*[\n",
    "        value if isinstance(value, list) else [value] for value in values\n",
    "    ])]\n",
    "    return combinations\n",
    "\n",
    "parameter_sets = generate_parameter_sets(params)"
   ]
  },
  {
   "cell_type": "code",
   "execution_count": null,
   "metadata": {},
   "outputs": [],
   "source": [
    "for param_set in parameter_sets:\n",
    "    # Create your model with the current parameter set\n",
    "    model = create_model(param_set)\n",
    "    \n",
    "    # Train your model\n",
    "    trainer = Trainer(\n",
    "        max_epochs=param_set['epochs'],\n",
    "        log_every_n_steps=10,\n",
    "        # ... other trainer parameters ...\n",
    "    )\n",
    "    trainer.fit(model, train_loader, val_loader)\n",
    "    \n",
    "    # Evaluate your model\n",
    "    # ... evaluation code ...\n",
    "\n",
    "    # You might want to save results for each parameter set\n",
    "    save_results(param_set, model, evaluation_metrics)"
   ]
  }
 ],
 "metadata": {
  "language_info": {
   "name": "python"
  }
 },
 "nbformat": 4,
 "nbformat_minor": 2
}
