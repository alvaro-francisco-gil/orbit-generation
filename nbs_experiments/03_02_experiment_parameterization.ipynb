{
 "cells": [
  {
   "cell_type": "code",
   "execution_count": null,
   "metadata": {
    "vscode": {
     "languageId": "plaintext"
    }
   },
   "outputs": [],
   "source": [
    "import papermill as pm\n",
    "from nbconvert import PDFExporter\n",
    "import nbformat\n",
    "\n",
    "# Define parameter sets\n",
    "parameter_sets = [\n",
    "    {\"alpha\": 0.3, \"n_iterations\": 150, \"learning_rate\": 0.02},\n",
    "    {\"alpha\": 0.7, \"n_iterations\": 200, \"learning_rate\": 0.01},\n",
    "    # Add more parameter sets as needed\n",
    "]\n",
    "\n",
    "# Create a PDF exporter\n",
    "pdf_exporter = PDFExporter()\n",
    "pdf_exporter.exclude_input = True  # This will hide the input cells in the PDF\n",
    "\n",
    "# Execute the notebook for each parameter set and convert to PDF\n",
    "for i, params in enumerate(parameter_sets):\n",
    "    # Execute the notebook\n",
    "    output_notebook = f'output_notebook_{i}.ipynb'\n",
    "    pm.execute_notebook(\n",
    "        'input_notebook.ipynb',\n",
    "        output_notebook,\n",
    "        parameters=params\n",
    "    )\n",
    "    \n",
    "    # Read the executed notebook\n",
    "    with open(output_notebook, 'r', encoding='utf-8') as f:\n",
    "        nb = nbformat.read(f, as_version=4)\n",
    "    \n",
    "    # Convert to PDF\n",
    "    pdf_data, _ = pdf_exporter.from_notebook_node(nb)\n",
    "    \n",
    "    # Save the PDF\n",
    "    with open(f'output_notebook_{i}.pdf', 'wb') as f:\n",
    "        f.write(pdf_data)"
   ]
  }
 ],
 "metadata": {
  "language_info": {
   "name": "python"
  }
 },
 "nbformat": 4,
 "nbformat_minor": 2
}
