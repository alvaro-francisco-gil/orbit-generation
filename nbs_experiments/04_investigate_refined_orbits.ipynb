{
 "cells": [
  {
   "cell_type": "code",
   "execution_count": 1,
   "metadata": {},
   "outputs": [],
   "source": [
    "from orbit_generation.visualize import visualize_static_orbits\n",
    "from orbit_generation.dataset import get_first_period_dataset\n",
    "from orbit_generation.experiment import get_experiment_parameters\n",
    "from orbit_generation.propagation import jacobi_constant\n",
    "from orbit_generation.constants import EM_MU"
   ]
  },
  {
   "cell_type": "code",
   "execution_count": 2,
   "metadata": {},
   "outputs": [],
   "source": [
    "import numpy as np\n",
    "import os\n",
    "import pandas as pd"
   ]
  },
  {
   "cell_type": "markdown",
   "metadata": {},
   "source": [
    "# Load"
   ]
  },
  {
   "cell_type": "code",
   "execution_count": 3,
   "metadata": {},
   "outputs": [],
   "source": [
    "data_path = r\"/orbit-generation/data/orbits_fix_1500/EM_N_fix_1500.h5\"\n",
    "experiments_folder = r'../experiments'\n",
    "experiment_folder = r'../experiments/experiment_1'\n",
    "experiment_id = int(experiment_folder[-1])"
   ]
  },
  {
   "cell_type": "code",
   "execution_count": 4,
   "metadata": {},
   "outputs": [],
   "source": [
    "images_folder = os.path.join(experiment_folder, 'images')\n",
    "generated_data_path = os.path.join(experiment_folder, f'exp{experiment_id}_generated_data.npy')\n",
    "latent_representations_path = os.path.join(experiment_folder, f'exp{experiment_id}_latent_representations.npy')\n",
    "latent_space_path = os.path.join(images_folder, f'exp{experiment_id}_latent_space')\n",
    "initial_conditions_file = os.path.join(experiment_folder, f'exp{experiment_id}_corrected_initial_conditions.npy')\n",
    "generated_data_file = os.path.join(experiment_folder, f'exp{experiment_id}_propagated_corrected_ICs.npy')\n",
    "converged_orbits_path = os.path.join(images_folder, f'exp{experiment_id}_converged_orbits')\n",
    "combined_latent_space_path = os.path.join(images_folder, f'exp{experiment_id}_combined_latent_space')\n",
    "dynamical_orbits_path = os.path.join(images_folder, f'exp{experiment_id}_refined_orbits.html')"
   ]
  },
  {
   "cell_type": "markdown",
   "metadata": {},
   "source": [
    "# Dataset"
   ]
  },
  {
   "cell_type": "code",
   "execution_count": 5,
   "metadata": {},
   "outputs": [
    {
     "data": {
      "text/plain": [
       "(45211, 7, 150)"
      ]
     },
     "execution_count": 5,
     "metadata": {},
     "output_type": "execute_result"
    }
   ],
   "source": [
    "params=get_experiment_parameters(experiments_folder=experiments_folder, experiment_id=experiment_id)\n",
    "\n",
    "data, orbit_df, labels, system_dict = get_first_period_dataset(file_path=data_path, segment_length=params['seq_len'])\n",
    "data.shape"
   ]
  },
  {
   "cell_type": "code",
   "execution_count": 6,
   "metadata": {},
   "outputs": [
    {
     "data": {
      "text/plain": [
       "(45211, 150, 6)"
      ]
     },
     "execution_count": 6,
     "metadata": {},
     "output_type": "execute_result"
    }
   ],
   "source": [
    "transposed_orbits = np.transpose(data, (0, 2, 1))\n",
    "\n",
    "if transposed_orbits.shape[2] == 7:\n",
    "    full_data = transposed_orbits[:,:,1:]\n",
    "else:\n",
    "    full_data = transposed_orbits\n",
    "\n",
    "full_data.shape"
   ]
  },
  {
   "cell_type": "code",
   "execution_count": 7,
   "metadata": {},
   "outputs": [],
   "source": [
    "results = np.array([jacobi_constant(full_data[i][0], EM_MU)[0] for i in range(full_data.shape[0])])\n",
    "orbit_df['calculated_jacobi'] = results"
   ]
  },
  {
   "cell_type": "code",
   "execution_count": 8,
   "metadata": {},
   "outputs": [
    {
     "data": {
      "text/html": [
       "<div>\n",
       "<style scoped>\n",
       "    .dataframe tbody tr th:only-of-type {\n",
       "        vertical-align: middle;\n",
       "    }\n",
       "\n",
       "    .dataframe tbody tr th {\n",
       "        vertical-align: top;\n",
       "    }\n",
       "\n",
       "    .dataframe thead th {\n",
       "        text-align: right;\n",
       "    }\n",
       "</style>\n",
       "<table border=\"1\" class=\"dataframe\">\n",
       "  <thead>\n",
       "    <tr style=\"text-align: right;\">\n",
       "      <th></th>\n",
       "      <th>id_class</th>\n",
       "      <th>x_0</th>\n",
       "      <th>y_0</th>\n",
       "      <th>x_0</th>\n",
       "      <th>vx_0</th>\n",
       "      <th>vy_0</th>\n",
       "      <th>vz_0</th>\n",
       "      <th>jacobi</th>\n",
       "      <th>period</th>\n",
       "      <th>stability</th>\n",
       "      <th>propagated_periods</th>\n",
       "      <th>calculated_jacobi</th>\n",
       "    </tr>\n",
       "  </thead>\n",
       "  <tbody>\n",
       "    <tr>\n",
       "      <th>0</th>\n",
       "      <td>1.0</td>\n",
       "      <td>0.941000</td>\n",
       "      <td>1.900442e-23</td>\n",
       "      <td>0.509474</td>\n",
       "      <td>2.968938e-13</td>\n",
       "      <td>-0.124968</td>\n",
       "      <td>-3.122717e-12</td>\n",
       "      <td>2.745412</td>\n",
       "      <td>11.555291</td>\n",
       "      <td>211.184678</td>\n",
       "      <td>3.0</td>\n",
       "      <td>2.757415</td>\n",
       "    </tr>\n",
       "    <tr>\n",
       "      <th>1</th>\n",
       "      <td>1.0</td>\n",
       "      <td>0.941538</td>\n",
       "      <td>-8.592698e-24</td>\n",
       "      <td>0.508602</td>\n",
       "      <td>2.902340e-13</td>\n",
       "      <td>-0.125672</td>\n",
       "      <td>-3.252212e-12</td>\n",
       "      <td>2.746226</td>\n",
       "      <td>11.551622</td>\n",
       "      <td>210.329145</td>\n",
       "      <td>3.0</td>\n",
       "      <td>2.758229</td>\n",
       "    </tr>\n",
       "    <tr>\n",
       "      <th>2</th>\n",
       "      <td>1.0</td>\n",
       "      <td>0.942076</td>\n",
       "      <td>6.956604e-24</td>\n",
       "      <td>0.507729</td>\n",
       "      <td>2.685527e-13</td>\n",
       "      <td>-0.126375</td>\n",
       "      <td>-2.862050e-12</td>\n",
       "      <td>2.747039</td>\n",
       "      <td>11.547936</td>\n",
       "      <td>209.473685</td>\n",
       "      <td>3.0</td>\n",
       "      <td>2.759042</td>\n",
       "    </tr>\n",
       "    <tr>\n",
       "      <th>3</th>\n",
       "      <td>1.0</td>\n",
       "      <td>0.942613</td>\n",
       "      <td>1.763946e-24</td>\n",
       "      <td>0.506856</td>\n",
       "      <td>3.153637e-13</td>\n",
       "      <td>-0.127078</td>\n",
       "      <td>-3.791054e-12</td>\n",
       "      <td>2.747850</td>\n",
       "      <td>11.544233</td>\n",
       "      <td>208.618315</td>\n",
       "      <td>3.0</td>\n",
       "      <td>2.759853</td>\n",
       "    </tr>\n",
       "    <tr>\n",
       "      <th>4</th>\n",
       "      <td>1.0</td>\n",
       "      <td>0.943150</td>\n",
       "      <td>9.441804e-24</td>\n",
       "      <td>0.505982</td>\n",
       "      <td>2.663322e-13</td>\n",
       "      <td>-0.127781</td>\n",
       "      <td>-2.982720e-12</td>\n",
       "      <td>2.748660</td>\n",
       "      <td>11.540511</td>\n",
       "      <td>207.763051</td>\n",
       "      <td>3.0</td>\n",
       "      <td>2.760663</td>\n",
       "    </tr>\n",
       "  </tbody>\n",
       "</table>\n",
       "</div>"
      ],
      "text/plain": [
       "   id_class       x_0           y_0       x_0          vx_0      vy_0  \\\n",
       "0       1.0  0.941000  1.900442e-23  0.509474  2.968938e-13 -0.124968   \n",
       "1       1.0  0.941538 -8.592698e-24  0.508602  2.902340e-13 -0.125672   \n",
       "2       1.0  0.942076  6.956604e-24  0.507729  2.685527e-13 -0.126375   \n",
       "3       1.0  0.942613  1.763946e-24  0.506856  3.153637e-13 -0.127078   \n",
       "4       1.0  0.943150  9.441804e-24  0.505982  2.663322e-13 -0.127781   \n",
       "\n",
       "           vz_0    jacobi     period   stability  propagated_periods  \\\n",
       "0 -3.122717e-12  2.745412  11.555291  211.184678                 3.0   \n",
       "1 -3.252212e-12  2.746226  11.551622  210.329145                 3.0   \n",
       "2 -2.862050e-12  2.747039  11.547936  209.473685                 3.0   \n",
       "3 -3.791054e-12  2.747850  11.544233  208.618315                 3.0   \n",
       "4 -2.982720e-12  2.748660  11.540511  207.763051                 3.0   \n",
       "\n",
       "   calculated_jacobi  \n",
       "0           2.757415  \n",
       "1           2.758229  \n",
       "2           2.759042  \n",
       "3           2.759853  \n",
       "4           2.760663  "
      ]
     },
     "execution_count": 8,
     "metadata": {},
     "output_type": "execute_result"
    }
   ],
   "source": [
    "orbit_df.head()"
   ]
  },
  {
   "cell_type": "markdown",
   "metadata": {},
   "source": [
    "# Refined Orbits"
   ]
  },
  {
   "cell_type": "code",
   "execution_count": 9,
   "metadata": {},
   "outputs": [
    {
     "ename": "FileNotFoundError",
     "evalue": "[Errno 2] No such file or directory: '../experiments/experiment_1/exp1_corrected_initial_conditions.npy'",
     "output_type": "error",
     "traceback": [
      "\u001b[0;31m---------------------------------------------------------------------------\u001b[0m",
      "\u001b[0;31mFileNotFoundError\u001b[0m                         Traceback (most recent call last)",
      "Cell \u001b[0;32mIn[9], line 1\u001b[0m\n\u001b[0;32m----> 1\u001b[0m initial_conditions \u001b[38;5;241m=\u001b[39m \u001b[43mnp\u001b[49m\u001b[38;5;241;43m.\u001b[39;49m\u001b[43mload\u001b[49m\u001b[43m(\u001b[49m\u001b[43minitial_conditions_file\u001b[49m\u001b[43m)\u001b[49m\n\u001b[1;32m      2\u001b[0m columns\u001b[38;5;241m=\u001b[39m [\u001b[38;5;124m'\u001b[39m\u001b[38;5;124mid\u001b[39m\u001b[38;5;124m'\u001b[39m,\u001b[38;5;124m'\u001b[39m\u001b[38;5;124mold_period\u001b[39m\u001b[38;5;124m'\u001b[39m, \u001b[38;5;124m'\u001b[39m\u001b[38;5;124mnew_period\u001b[39m\u001b[38;5;124m'\u001b[39m, \u001b[38;5;124m'\u001b[39m\u001b[38;5;124miterations_convergence\u001b[39m\u001b[38;5;124m'\u001b[39m,\u001b[38;5;124m'\u001b[39m\u001b[38;5;124merror\u001b[39m\u001b[38;5;124m'\u001b[39m,\u001b[38;5;124m'\u001b[39m\u001b[38;5;124mpos_x0\u001b[39m\u001b[38;5;124m'\u001b[39m,\u001b[38;5;124m'\u001b[39m\u001b[38;5;124mpos_y0\u001b[39m\u001b[38;5;124m'\u001b[39m,\u001b[38;5;124m'\u001b[39m\u001b[38;5;124mpos_z0\u001b[39m\u001b[38;5;124m'\u001b[39m,\u001b[38;5;124m'\u001b[39m\u001b[38;5;124mvel_x0\u001b[39m\u001b[38;5;124m'\u001b[39m,\u001b[38;5;124m'\u001b[39m\u001b[38;5;124mvel_y0\u001b[39m\u001b[38;5;124m'\u001b[39m,\u001b[38;5;124m'\u001b[39m\u001b[38;5;124mvel_z0\u001b[39m\u001b[38;5;124m'\u001b[39m]\n\u001b[1;32m      3\u001b[0m synthetic_orbit_df \u001b[38;5;241m=\u001b[39m pd\u001b[38;5;241m.\u001b[39mDataFrame(initial_conditions, columns\u001b[38;5;241m=\u001b[39mcolumns)\n",
      "File \u001b[0;32m/usr/local/lib/python3.10/dist-packages/numpy/lib/_npyio_impl.py:455\u001b[0m, in \u001b[0;36mload\u001b[0;34m(file, mmap_mode, allow_pickle, fix_imports, encoding, max_header_size)\u001b[0m\n\u001b[1;32m    453\u001b[0m     own_fid \u001b[38;5;241m=\u001b[39m \u001b[38;5;28;01mFalse\u001b[39;00m\n\u001b[1;32m    454\u001b[0m \u001b[38;5;28;01melse\u001b[39;00m:\n\u001b[0;32m--> 455\u001b[0m     fid \u001b[38;5;241m=\u001b[39m stack\u001b[38;5;241m.\u001b[39menter_context(\u001b[38;5;28;43mopen\u001b[39;49m\u001b[43m(\u001b[49m\u001b[43mos\u001b[49m\u001b[38;5;241;43m.\u001b[39;49m\u001b[43mfspath\u001b[49m\u001b[43m(\u001b[49m\u001b[43mfile\u001b[49m\u001b[43m)\u001b[49m\u001b[43m,\u001b[49m\u001b[43m \u001b[49m\u001b[38;5;124;43m\"\u001b[39;49m\u001b[38;5;124;43mrb\u001b[39;49m\u001b[38;5;124;43m\"\u001b[39;49m\u001b[43m)\u001b[49m)\n\u001b[1;32m    456\u001b[0m     own_fid \u001b[38;5;241m=\u001b[39m \u001b[38;5;28;01mTrue\u001b[39;00m\n\u001b[1;32m    458\u001b[0m \u001b[38;5;66;03m# Code to distinguish from NumPy binary files and pickles.\u001b[39;00m\n",
      "\u001b[0;31mFileNotFoundError\u001b[0m: [Errno 2] No such file or directory: '../experiments/experiment_1/exp1_corrected_initial_conditions.npy'"
     ]
    }
   ],
   "source": [
    "initial_conditions = np.load(initial_conditions_file)\n",
    "columns= ['id','old_period', 'new_period', 'iterations_convergence','error','pos_x0','pos_y0','pos_z0','vel_x0','vel_y0','vel_z0']\n",
    "synthetic_orbit_df = pd.DataFrame(initial_conditions, columns=columns)\n",
    "generated_data = np.load(generated_data_file)\n",
    "generated_data.shape"
   ]
  },
  {
   "cell_type": "code",
   "execution_count": 15,
   "metadata": {},
   "outputs": [
    {
     "data": {
      "text/plain": [
       "(51, 6, 300)"
      ]
     },
     "execution_count": 15,
     "metadata": {},
     "output_type": "execute_result"
    }
   ],
   "source": [
    "if generated_data.shape[2] == 7:\n",
    "    display_generation = generated_data[:,:,1:]\n",
    "else:\n",
    "    display_generation = generated_data\n",
    "\n",
    "display_generation.shape"
   ]
  },
  {
   "cell_type": "code",
   "execution_count": null,
   "metadata": {},
   "outputs": [],
   "source": [
    "new_jacobis = np.array([jacobi_constant(display_generation[i][0], EM_MU)[0] for i in range(display_generation.shape[0])])\n",
    "synthetic_orbit_df['calculated_jacobi'] = new_jacobis\n",
    "synthetic_orbit_df.rename(columns={'new_period': 'period'}, inplace=True)"
   ]
  },
  {
   "cell_type": "code",
   "execution_count": null,
   "metadata": {},
   "outputs": [],
   "source": [
    "synthetic_orbit_df.head()"
   ]
  },
  {
   "cell_type": "markdown",
   "metadata": {},
   "source": [
    "# Compare"
   ]
  },
  {
   "cell_type": "code",
   "execution_count": null,
   "metadata": {},
   "outputs": [],
   "source": [
    "import numpy as np\n",
    "from scipy.spatial import cKDTree\n",
    "\n",
    "def calculate_closest_distances(orbit_df, synthetic_orbit_df, features):\n",
    "    \"\"\"\n",
    "    Calculate the distance from each point in synthetic_orbit_df to the closest point in orbit_df\n",
    "    based on specified features.\n",
    "    \n",
    "    Parameters:\n",
    "    - orbit_df: DataFrame containing the training data.\n",
    "    - synthetic_orbit_df: DataFrame containing the synthetic data.\n",
    "    - features: List of features (columns) to use for calculating the distances.\n",
    "    \n",
    "    Returns:\n",
    "    - distances: A NumPy array of the minimum distances from each synthetic point to the nearest orbit point.\n",
    "    \"\"\"\n",
    "    # Extract the relevant features from both DataFrames\n",
    "    orbit_points = orbit_df[features].values\n",
    "    synthetic_points = synthetic_orbit_df[features].values\n",
    "\n",
    "    # Create a KDTree for efficient nearest-neighbor search in orbit_df\n",
    "    tree = cKDTree(orbit_points)\n",
    "\n",
    "    # Query the KDTree with the synthetic points to find the distance to the nearest orbit point\n",
    "    distances, _ = tree.query(synthetic_points, k=1)\n",
    "\n",
    "    return distances"
   ]
  },
  {
   "cell_type": "code",
   "execution_count": null,
   "metadata": {},
   "outputs": [],
   "source": [
    "# Define the features to be used for distance calculation\n",
    "features = ['period', 'calculated_jacobi']\n",
    "\n",
    "# Calculate the distances\n",
    "distances = calculate_closest_distances(orbit_df, synthetic_orbit_df, features)"
   ]
  },
  {
   "cell_type": "code",
   "execution_count": null,
   "metadata": {},
   "outputs": [],
   "source": [
    "distances"
   ]
  },
  {
   "cell_type": "code",
   "execution_count": null,
   "metadata": {},
   "outputs": [],
   "source": [
    "import matplotlib.pyplot as plt\n",
    "\n",
    "def plot_comparison(orbit_df, synthetic_orbit_df):\n",
    "    \"\"\"\n",
    "    Function to create a scatter plot comparing 'period' and 'calculated_jacobi'\n",
    "    between two DataFrames and plot the index of points in synthetic_orbit_df.\n",
    "    \n",
    "    Parameters:\n",
    "    - orbit_df: DataFrame containing 'period' and 'calculated_jacobi' columns\n",
    "    - synthetic_orbit_df: DataFrame containing 'period' and 'calculated_jacobi' columns\n",
    "    \"\"\"\n",
    "    plt.figure(figsize=(10, 6))\n",
    "\n",
    "    # Plot for orbit_df\n",
    "    plt.scatter(orbit_df['period'], orbit_df['calculated_jacobi'], color='blue', label='orbit_df', marker='o')\n",
    "\n",
    "    # Plot for synthetic_orbit_df\n",
    "    plt.scatter(synthetic_orbit_df['period'], synthetic_orbit_df['calculated_jacobi'], color='red', label='synthetic_orbit_df', marker='x')\n",
    "\n",
    "    # Annotate the points in synthetic_orbit_df with their indices\n",
    "    for i in synthetic_orbit_df.index:\n",
    "        plt.text(synthetic_orbit_df['period'].loc[i], \n",
    "                 synthetic_orbit_df['calculated_jacobi'].loc[i], \n",
    "                 str(int(i)), \n",
    "                 fontsize=9, color='black', ha='right')\n",
    "\n",
    "    # Add labels and title\n",
    "    plt.xlabel('Period')\n",
    "    plt.ylabel('Calculated Jacobi')\n",
    "    plt.title('Comparison of Features Between Two DataFrames')\n",
    "    plt.legend()  # Add legend to distinguish between the groups\n",
    "\n",
    "    # Display the plot\n",
    "    plt.grid(True)\n",
    "    plt.show()"
   ]
  },
  {
   "cell_type": "code",
   "execution_count": null,
   "metadata": {},
   "outputs": [],
   "source": [
    "plot_comparison(orbit_df, synthetic_orbit_df)"
   ]
  },
  {
   "cell_type": "code",
   "execution_count": null,
   "metadata": {},
   "outputs": [],
   "source": [
    "visualize_static_orbits(np.transpose(display_generation, (0, 2, 1)), orbit_indices=[9,26,35])"
   ]
  }
 ],
 "metadata": {
  "kernelspec": {
   "display_name": "Python (PyTorch)",
   "language": "python",
   "name": "pytorch"
  },
  "language_info": {
   "codemirror_mode": {
    "name": "ipython",
    "version": 3
   },
   "file_extension": ".py",
   "mimetype": "text/x-python",
   "name": "python",
   "nbconvert_exporter": "python",
   "pygments_lexer": "ipython3",
   "version": "3.10.12"
  }
 },
 "nbformat": 4,
 "nbformat_minor": 2
}
