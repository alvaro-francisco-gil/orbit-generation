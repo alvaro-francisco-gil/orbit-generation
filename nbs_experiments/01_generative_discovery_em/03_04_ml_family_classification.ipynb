{
 "cells": [
  {
   "cell_type": "markdown",
   "metadata": {},
   "source": [
    "# Imports"
   ]
  },
  {
   "cell_type": "code",
   "execution_count": 1,
   "metadata": {},
   "outputs": [],
   "source": [
    "from orbit_generation.visualize import visualize_static_orbits, plot_mean_distance_by_group_column\n",
    "from orbit_generation.constants import EM_MU\n",
    "from orbit_generation.stats import calculate_per_orbit_spatial_statistics\n",
    "from orbit_generation.processing import reorder_orbits, interpolate_equal_times, downsample_3d_array\n",
    "from orbit_generation.experiment import read_json_to_dataframe, concatenate_csvs_from_experiment_folder, concatenate_and_check_orbits_from_experiment_folder\n",
    "from orbit_generation.evaluation import calculate_pairwise_distances, calculate_pairwise_orbit_distances\n",
    "from orbit_generation.dataset import get_first_period_dataset\n",
    "from orbit_generation.evaluation import evaluate_distance_metrics_and_clustering, machine_learning_evaluation\n",
    "from orbit_generation.data import TSFeatureWiseScaler\n",
    "from orbit_generation.dataset import get_first_period_dataset\n",
    "from orbit_generation.stats import calculate_per_orbit_spatial_statistics\n",
    "\n",
    "import torch\n",
    "import pickle\n",
    "import numpy as np\n",
    "import pandas as pd\n",
    "from sklearn.preprocessing import StandardScaler\n",
    "pd.set_option('display.max_columns', None)\n"
   ]
  },
  {
   "cell_type": "markdown",
   "metadata": {},
   "source": [
    "# Data"
   ]
  },
  {
   "cell_type": "markdown",
   "metadata": {},
   "source": [
    "## Import"
   ]
  },
  {
   "cell_type": "code",
   "execution_count": 2,
   "metadata": {},
   "outputs": [],
   "source": [
    "data_path = r\"/orbit-generation/data/orbits_fix_1500/EM_N_fix_1500.h5\"\n",
    "experiments_folder = r'../../experiments'\n",
    "experiments_file = r'../../experiments/experiments.json'"
   ]
  },
  {
   "cell_type": "code",
   "execution_count": 3,
   "metadata": {},
   "outputs": [
    {
     "data": {
      "text/plain": [
       "(193, 31)"
      ]
     },
     "execution_count": 3,
     "metadata": {},
     "output_type": "execute_result"
    }
   ],
   "source": [
    "df=read_json_to_dataframe(experiments_file)\n",
    "df.shape"
   ]
  },
  {
   "cell_type": "code",
   "execution_count": 4,
   "metadata": {},
   "outputs": [
    {
     "data": {
      "text/html": [
       "<div>\n",
       "<style scoped>\n",
       "    .dataframe tbody tr th:only-of-type {\n",
       "        vertical-align: middle;\n",
       "    }\n",
       "\n",
       "    .dataframe tbody tr th {\n",
       "        vertical-align: top;\n",
       "    }\n",
       "\n",
       "    .dataframe thead th {\n",
       "        text-align: right;\n",
       "    }\n",
       "</style>\n",
       "<table border=\"1\" class=\"dataframe\">\n",
       "  <thead>\n",
       "    <tr style=\"text-align: right;\">\n",
       "      <th></th>\n",
       "      <th>id</th>\n",
       "      <th>old_period</th>\n",
       "      <th>period</th>\n",
       "      <th>iterations_convergence</th>\n",
       "      <th>error</th>\n",
       "      <th>initial_pos_x0</th>\n",
       "      <th>initial_pos_y0</th>\n",
       "      <th>initial_pos_z0</th>\n",
       "      <th>initial_vel_x0</th>\n",
       "      <th>initial_vel_y0</th>\n",
       "      <th>initial_vel_z0</th>\n",
       "      <th>final_pos_x0</th>\n",
       "      <th>final_pos_y0</th>\n",
       "      <th>final_pos_z0</th>\n",
       "      <th>final_vel_x0</th>\n",
       "      <th>final_vel_y0</th>\n",
       "      <th>final_vel_z0</th>\n",
       "      <th>disorder_metric</th>\n",
       "      <th>correct_order</th>\n",
       "      <th>inversions</th>\n",
       "      <th>kendall_tau_distance</th>\n",
       "      <th>propagated_position_error</th>\n",
       "      <th>propagated_velocity_error</th>\n",
       "      <th>propagated_energy_error</th>\n",
       "      <th>latent_distance_to_generation</th>\n",
       "      <th>calculated_jacobi</th>\n",
       "      <th>period_distance_with_generation</th>\n",
       "      <th>feature_closest_orbit</th>\n",
       "      <th>feature_distance_from_closest_orbit</th>\n",
       "      <th>nearest_orbit</th>\n",
       "      <th>nearest_orbit_distance</th>\n",
       "      <th>distance_from_generation</th>\n",
       "      <th>centroid_distance</th>\n",
       "      <th>feature_centroid_distance</th>\n",
       "      <th>closest_family_centroid</th>\n",
       "      <th>closest_family_centroid_distance</th>\n",
       "      <th>closest_family_feature_centroid</th>\n",
       "      <th>closest_family_feature_centroid_distance</th>\n",
       "      <th>initial_conditions_distance</th>\n",
       "      <th>closest_family_full_centroid</th>\n",
       "      <th>closest_family_full_centroid_distance</th>\n",
       "      <th>family_of_feature_closest_orbit</th>\n",
       "      <th>family_of_closest_orbit</th>\n",
       "      <th>experiment_id</th>\n",
       "    </tr>\n",
       "  </thead>\n",
       "  <tbody>\n",
       "    <tr>\n",
       "      <th>0</th>\n",
       "      <td>0</td>\n",
       "      <td>2.825363</td>\n",
       "      <td>3.395283</td>\n",
       "      <td>9</td>\n",
       "      <td>2.866915e-13</td>\n",
       "      <td>1.085847</td>\n",
       "      <td>0.005968</td>\n",
       "      <td>-0.006422</td>\n",
       "      <td>0.007797</td>\n",
       "      <td>0.193831</td>\n",
       "      <td>-0.008355</td>\n",
       "      <td>1.131194</td>\n",
       "      <td>-0.024008</td>\n",
       "      <td>2.689891e-16</td>\n",
       "      <td>-0.007002</td>\n",
       "      <td>0.117360</td>\n",
       "      <td>-2.899136e-15</td>\n",
       "      <td>372.0</td>\n",
       "      <td>66.0</td>\n",
       "      <td>255.0</td>\n",
       "      <td>0.103030</td>\n",
       "      <td>1.329037e-12</td>\n",
       "      <td>2.465352e-12</td>\n",
       "      <td>1.481195e-14</td>\n",
       "      <td>0.116331</td>\n",
       "      <td>3.173176</td>\n",
       "      <td>0.569921</td>\n",
       "      <td>17972</td>\n",
       "      <td>0.000104</td>\n",
       "      <td>17976</td>\n",
       "      <td>0.409855</td>\n",
       "      <td>1.208203</td>\n",
       "      <td>0.830977</td>\n",
       "      <td>3.933960</td>\n",
       "      <td>22</td>\n",
       "      <td>0.166260</td>\n",
       "      <td>6</td>\n",
       "      <td>0.645355</td>\n",
       "      <td>0.095566</td>\n",
       "      <td>6</td>\n",
       "      <td>0.121419</td>\n",
       "      <td>15.0</td>\n",
       "      <td>15.0</td>\n",
       "      <td>54</td>\n",
       "    </tr>\n",
       "    <tr>\n",
       "      <th>1</th>\n",
       "      <td>3</td>\n",
       "      <td>6.410875</td>\n",
       "      <td>6.306637</td>\n",
       "      <td>9</td>\n",
       "      <td>3.831047e-10</td>\n",
       "      <td>1.077167</td>\n",
       "      <td>0.244604</td>\n",
       "      <td>0.427690</td>\n",
       "      <td>0.050803</td>\n",
       "      <td>-1.548356</td>\n",
       "      <td>0.846692</td>\n",
       "      <td>0.774984</td>\n",
       "      <td>0.387647</td>\n",
       "      <td>4.910636e-01</td>\n",
       "      <td>0.073323</td>\n",
       "      <td>-1.206546</td>\n",
       "      <td>8.439762e-01</td>\n",
       "      <td>150.0</td>\n",
       "      <td>69.0</td>\n",
       "      <td>98.0</td>\n",
       "      <td>0.039596</td>\n",
       "      <td>6.852558e-12</td>\n",
       "      <td>1.434101e-11</td>\n",
       "      <td>2.466171e-11</td>\n",
       "      <td>0.239348</td>\n",
       "      <td>0.591147</td>\n",
       "      <td>0.104238</td>\n",
       "      <td>30631</td>\n",
       "      <td>0.000694</td>\n",
       "      <td>27453</td>\n",
       "      <td>3.967637</td>\n",
       "      <td>4.725327</td>\n",
       "      <td>2.500625</td>\n",
       "      <td>2.045136</td>\n",
       "      <td>18</td>\n",
       "      <td>0.486709</td>\n",
       "      <td>15</td>\n",
       "      <td>0.159043</td>\n",
       "      <td>0.482846</td>\n",
       "      <td>23</td>\n",
       "      <td>0.482840</td>\n",
       "      <td>29.0</td>\n",
       "      <td>25.0</td>\n",
       "      <td>54</td>\n",
       "    </tr>\n",
       "    <tr>\n",
       "      <th>2</th>\n",
       "      <td>5</td>\n",
       "      <td>2.774760</td>\n",
       "      <td>3.382448</td>\n",
       "      <td>8</td>\n",
       "      <td>1.560247e-13</td>\n",
       "      <td>1.078207</td>\n",
       "      <td>0.011581</td>\n",
       "      <td>0.003735</td>\n",
       "      <td>0.007048</td>\n",
       "      <td>0.144430</td>\n",
       "      <td>-0.018307</td>\n",
       "      <td>1.140318</td>\n",
       "      <td>-0.014000</td>\n",
       "      <td>-7.494117e-14</td>\n",
       "      <td>-0.005923</td>\n",
       "      <td>0.077325</td>\n",
       "      <td>1.243685e-13</td>\n",
       "      <td>276.0</td>\n",
       "      <td>64.0</td>\n",
       "      <td>187.0</td>\n",
       "      <td>0.075556</td>\n",
       "      <td>1.162738e-12</td>\n",
       "      <td>2.025713e-12</td>\n",
       "      <td>3.925031e-15</td>\n",
       "      <td>0.140431</td>\n",
       "      <td>3.179420</td>\n",
       "      <td>0.607688</td>\n",
       "      <td>17992</td>\n",
       "      <td>0.000240</td>\n",
       "      <td>17992</td>\n",
       "      <td>0.169285</td>\n",
       "      <td>1.082909</td>\n",
       "      <td>0.824064</td>\n",
       "      <td>3.947770</td>\n",
       "      <td>22</td>\n",
       "      <td>0.173278</td>\n",
       "      <td>6</td>\n",
       "      <td>0.659336</td>\n",
       "      <td>0.097635</td>\n",
       "      <td>6</td>\n",
       "      <td>0.114895</td>\n",
       "      <td>15.0</td>\n",
       "      <td>15.0</td>\n",
       "      <td>54</td>\n",
       "    </tr>\n",
       "    <tr>\n",
       "      <th>3</th>\n",
       "      <td>11</td>\n",
       "      <td>22.927443</td>\n",
       "      <td>22.944445</td>\n",
       "      <td>9</td>\n",
       "      <td>6.897051e-12</td>\n",
       "      <td>1.048586</td>\n",
       "      <td>0.020412</td>\n",
       "      <td>-0.036356</td>\n",
       "      <td>0.013088</td>\n",
       "      <td>0.715763</td>\n",
       "      <td>-0.018567</td>\n",
       "      <td>0.906908</td>\n",
       "      <td>0.048871</td>\n",
       "      <td>-1.470502e-02</td>\n",
       "      <td>0.185644</td>\n",
       "      <td>0.562421</td>\n",
       "      <td>2.131846e-02</td>\n",
       "      <td>4.0</td>\n",
       "      <td>98.0</td>\n",
       "      <td>2.0</td>\n",
       "      <td>0.000808</td>\n",
       "      <td>7.630890e-12</td>\n",
       "      <td>1.316706e-11</td>\n",
       "      <td>2.564077e-12</td>\n",
       "      <td>0.045951</td>\n",
       "      <td>2.885993</td>\n",
       "      <td>0.017003</td>\n",
       "      <td>42943</td>\n",
       "      <td>0.003184</td>\n",
       "      <td>42922</td>\n",
       "      <td>2.087514</td>\n",
       "      <td>2.232660</td>\n",
       "      <td>1.988188</td>\n",
       "      <td>15.698535</td>\n",
       "      <td>32</td>\n",
       "      <td>0.302875</td>\n",
       "      <td>37</td>\n",
       "      <td>1.264695</td>\n",
       "      <td>0.276101</td>\n",
       "      <td>37</td>\n",
       "      <td>0.300966</td>\n",
       "      <td>40.0</td>\n",
       "      <td>40.0</td>\n",
       "      <td>54</td>\n",
       "    </tr>\n",
       "    <tr>\n",
       "      <th>4</th>\n",
       "      <td>14</td>\n",
       "      <td>6.659652</td>\n",
       "      <td>5.645048</td>\n",
       "      <td>6</td>\n",
       "      <td>3.873477e-12</td>\n",
       "      <td>0.787035</td>\n",
       "      <td>-0.122416</td>\n",
       "      <td>0.049502</td>\n",
       "      <td>0.276159</td>\n",
       "      <td>0.940814</td>\n",
       "      <td>-0.412493</td>\n",
       "      <td>0.642761</td>\n",
       "      <td>-0.185012</td>\n",
       "      <td>1.920668e-02</td>\n",
       "      <td>0.314235</td>\n",
       "      <td>0.605758</td>\n",
       "      <td>-3.829873e-01</td>\n",
       "      <td>68.0</td>\n",
       "      <td>78.0</td>\n",
       "      <td>36.0</td>\n",
       "      <td>0.014545</td>\n",
       "      <td>1.742954e-12</td>\n",
       "      <td>3.321685e-12</td>\n",
       "      <td>1.132078e-12</td>\n",
       "      <td>0.263792</td>\n",
       "      <td>2.810963</td>\n",
       "      <td>1.014603</td>\n",
       "      <td>28414</td>\n",
       "      <td>0.000941</td>\n",
       "      <td>28420</td>\n",
       "      <td>0.970354</td>\n",
       "      <td>2.066139</td>\n",
       "      <td>0.323756</td>\n",
       "      <td>1.658958</td>\n",
       "      <td>19</td>\n",
       "      <td>0.222946</td>\n",
       "      <td>14</td>\n",
       "      <td>0.327624</td>\n",
       "      <td>0.374478</td>\n",
       "      <td>24</td>\n",
       "      <td>0.221195</td>\n",
       "      <td>26.0</td>\n",
       "      <td>26.0</td>\n",
       "      <td>54</td>\n",
       "    </tr>\n",
       "  </tbody>\n",
       "</table>\n",
       "</div>"
      ],
      "text/plain": [
       "   id  old_period     period  iterations_convergence         error  \\\n",
       "0   0    2.825363   3.395283                       9  2.866915e-13   \n",
       "1   3    6.410875   6.306637                       9  3.831047e-10   \n",
       "2   5    2.774760   3.382448                       8  1.560247e-13   \n",
       "3  11   22.927443  22.944445                       9  6.897051e-12   \n",
       "4  14    6.659652   5.645048                       6  3.873477e-12   \n",
       "\n",
       "   initial_pos_x0  initial_pos_y0  initial_pos_z0  initial_vel_x0  \\\n",
       "0        1.085847        0.005968       -0.006422        0.007797   \n",
       "1        1.077167        0.244604        0.427690        0.050803   \n",
       "2        1.078207        0.011581        0.003735        0.007048   \n",
       "3        1.048586        0.020412       -0.036356        0.013088   \n",
       "4        0.787035       -0.122416        0.049502        0.276159   \n",
       "\n",
       "   initial_vel_y0  initial_vel_z0  final_pos_x0  final_pos_y0  final_pos_z0  \\\n",
       "0        0.193831       -0.008355      1.131194     -0.024008  2.689891e-16   \n",
       "1       -1.548356        0.846692      0.774984      0.387647  4.910636e-01   \n",
       "2        0.144430       -0.018307      1.140318     -0.014000 -7.494117e-14   \n",
       "3        0.715763       -0.018567      0.906908      0.048871 -1.470502e-02   \n",
       "4        0.940814       -0.412493      0.642761     -0.185012  1.920668e-02   \n",
       "\n",
       "   final_vel_x0  final_vel_y0  final_vel_z0  disorder_metric  correct_order  \\\n",
       "0     -0.007002      0.117360 -2.899136e-15            372.0           66.0   \n",
       "1      0.073323     -1.206546  8.439762e-01            150.0           69.0   \n",
       "2     -0.005923      0.077325  1.243685e-13            276.0           64.0   \n",
       "3      0.185644      0.562421  2.131846e-02              4.0           98.0   \n",
       "4      0.314235      0.605758 -3.829873e-01             68.0           78.0   \n",
       "\n",
       "   inversions  kendall_tau_distance  propagated_position_error  \\\n",
       "0       255.0              0.103030               1.329037e-12   \n",
       "1        98.0              0.039596               6.852558e-12   \n",
       "2       187.0              0.075556               1.162738e-12   \n",
       "3         2.0              0.000808               7.630890e-12   \n",
       "4        36.0              0.014545               1.742954e-12   \n",
       "\n",
       "   propagated_velocity_error  propagated_energy_error  \\\n",
       "0               2.465352e-12             1.481195e-14   \n",
       "1               1.434101e-11             2.466171e-11   \n",
       "2               2.025713e-12             3.925031e-15   \n",
       "3               1.316706e-11             2.564077e-12   \n",
       "4               3.321685e-12             1.132078e-12   \n",
       "\n",
       "   latent_distance_to_generation  calculated_jacobi  \\\n",
       "0                       0.116331           3.173176   \n",
       "1                       0.239348           0.591147   \n",
       "2                       0.140431           3.179420   \n",
       "3                       0.045951           2.885993   \n",
       "4                       0.263792           2.810963   \n",
       "\n",
       "   period_distance_with_generation  feature_closest_orbit  \\\n",
       "0                         0.569921                  17972   \n",
       "1                         0.104238                  30631   \n",
       "2                         0.607688                  17992   \n",
       "3                         0.017003                  42943   \n",
       "4                         1.014603                  28414   \n",
       "\n",
       "   feature_distance_from_closest_orbit  nearest_orbit  nearest_orbit_distance  \\\n",
       "0                             0.000104          17976                0.409855   \n",
       "1                             0.000694          27453                3.967637   \n",
       "2                             0.000240          17992                0.169285   \n",
       "3                             0.003184          42922                2.087514   \n",
       "4                             0.000941          28420                0.970354   \n",
       "\n",
       "   distance_from_generation  centroid_distance  feature_centroid_distance  \\\n",
       "0                  1.208203           0.830977                   3.933960   \n",
       "1                  4.725327           2.500625                   2.045136   \n",
       "2                  1.082909           0.824064                   3.947770   \n",
       "3                  2.232660           1.988188                  15.698535   \n",
       "4                  2.066139           0.323756                   1.658958   \n",
       "\n",
       "   closest_family_centroid  closest_family_centroid_distance  \\\n",
       "0                       22                          0.166260   \n",
       "1                       18                          0.486709   \n",
       "2                       22                          0.173278   \n",
       "3                       32                          0.302875   \n",
       "4                       19                          0.222946   \n",
       "\n",
       "   closest_family_feature_centroid  closest_family_feature_centroid_distance  \\\n",
       "0                                6                                  0.645355   \n",
       "1                               15                                  0.159043   \n",
       "2                                6                                  0.659336   \n",
       "3                               37                                  1.264695   \n",
       "4                               14                                  0.327624   \n",
       "\n",
       "   initial_conditions_distance  closest_family_full_centroid  \\\n",
       "0                     0.095566                             6   \n",
       "1                     0.482846                            23   \n",
       "2                     0.097635                             6   \n",
       "3                     0.276101                            37   \n",
       "4                     0.374478                            24   \n",
       "\n",
       "   closest_family_full_centroid_distance  family_of_feature_closest_orbit  \\\n",
       "0                               0.121419                             15.0   \n",
       "1                               0.482840                             29.0   \n",
       "2                               0.114895                             15.0   \n",
       "3                               0.300966                             40.0   \n",
       "4                               0.221195                             26.0   \n",
       "\n",
       "   family_of_closest_orbit experiment_id  \n",
       "0                     15.0            54  \n",
       "1                     25.0            54  \n",
       "2                     15.0            54  \n",
       "3                     40.0            54  \n",
       "4                     26.0            54  "
      ]
     },
     "execution_count": 4,
     "metadata": {},
     "output_type": "execute_result"
    }
   ],
   "source": [
    "refined_orbits, refined_orbits_df = concatenate_and_check_orbits_from_experiment_folder(experiments_folder)\n",
    "refined_orbits_df.head()"
   ]
  },
  {
   "cell_type": "code",
   "execution_count": 5,
   "metadata": {},
   "outputs": [
    {
     "name": "stdout",
     "output_type": "stream",
     "text": [
      "(19954, 44)\n",
      "(19954, 7, 100)\n"
     ]
    }
   ],
   "source": [
    "print(refined_orbits_df.shape)\n",
    "print(refined_orbits.shape)"
   ]
  },
  {
   "cell_type": "code",
   "execution_count": 6,
   "metadata": {},
   "outputs": [
    {
     "data": {
      "text/html": [
       "<div>\n",
       "<style scoped>\n",
       "    .dataframe tbody tr th:only-of-type {\n",
       "        vertical-align: middle;\n",
       "    }\n",
       "\n",
       "    .dataframe tbody tr th {\n",
       "        vertical-align: top;\n",
       "    }\n",
       "\n",
       "    .dataframe thead th {\n",
       "        text-align: right;\n",
       "    }\n",
       "</style>\n",
       "<table border=\"1\" class=\"dataframe\">\n",
       "  <thead>\n",
       "    <tr style=\"text-align: right;\">\n",
       "      <th></th>\n",
       "      <th>position_error</th>\n",
       "      <th>velocity_error</th>\n",
       "      <th>energy_error</th>\n",
       "      <th>disorder_metric</th>\n",
       "      <th>correct_order</th>\n",
       "      <th>inversions</th>\n",
       "      <th>kendall_tau_distance</th>\n",
       "      <th>nearest_orbit</th>\n",
       "      <th>nearest_orbit_distance</th>\n",
       "      <th>experiment_id</th>\n",
       "    </tr>\n",
       "  </thead>\n",
       "  <tbody>\n",
       "    <tr>\n",
       "      <th>0</th>\n",
       "      <td>0.015872</td>\n",
       "      <td>0.065850</td>\n",
       "      <td>0.090494</td>\n",
       "      <td>110.0</td>\n",
       "      <td>66.0</td>\n",
       "      <td>62.0</td>\n",
       "      <td>0.025101</td>\n",
       "      <td>18000</td>\n",
       "      <td>1.058373</td>\n",
       "      <td>54</td>\n",
       "    </tr>\n",
       "    <tr>\n",
       "      <th>1</th>\n",
       "      <td>0.028149</td>\n",
       "      <td>0.046829</td>\n",
       "      <td>0.055805</td>\n",
       "      <td>144.0</td>\n",
       "      <td>67.0</td>\n",
       "      <td>84.0</td>\n",
       "      <td>0.034043</td>\n",
       "      <td>11626</td>\n",
       "      <td>2.858209</td>\n",
       "      <td>54</td>\n",
       "    </tr>\n",
       "    <tr>\n",
       "      <th>2</th>\n",
       "      <td>0.088998</td>\n",
       "      <td>0.473862</td>\n",
       "      <td>12.281460</td>\n",
       "      <td>98.0</td>\n",
       "      <td>67.0</td>\n",
       "      <td>55.0</td>\n",
       "      <td>0.022267</td>\n",
       "      <td>3569</td>\n",
       "      <td>6.864561</td>\n",
       "      <td>54</td>\n",
       "    </tr>\n",
       "    <tr>\n",
       "      <th>3</th>\n",
       "      <td>0.378554</td>\n",
       "      <td>0.698021</td>\n",
       "      <td>0.593258</td>\n",
       "      <td>266.0</td>\n",
       "      <td>63.0</td>\n",
       "      <td>165.0</td>\n",
       "      <td>0.067611</td>\n",
       "      <td>27418</td>\n",
       "      <td>2.618042</td>\n",
       "      <td>54</td>\n",
       "    </tr>\n",
       "    <tr>\n",
       "      <th>4</th>\n",
       "      <td>0.017083</td>\n",
       "      <td>0.056371</td>\n",
       "      <td>0.079053</td>\n",
       "      <td>128.0</td>\n",
       "      <td>65.0</td>\n",
       "      <td>74.0</td>\n",
       "      <td>0.029960</td>\n",
       "      <td>18019</td>\n",
       "      <td>1.074728</td>\n",
       "      <td>54</td>\n",
       "    </tr>\n",
       "  </tbody>\n",
       "</table>\n",
       "</div>"
      ],
      "text/plain": [
       "   position_error  velocity_error  energy_error  disorder_metric  \\\n",
       "0        0.015872        0.065850      0.090494            110.0   \n",
       "1        0.028149        0.046829      0.055805            144.0   \n",
       "2        0.088998        0.473862     12.281460             98.0   \n",
       "3        0.378554        0.698021      0.593258            266.0   \n",
       "4        0.017083        0.056371      0.079053            128.0   \n",
       "\n",
       "   correct_order  inversions  kendall_tau_distance  nearest_orbit  \\\n",
       "0           66.0        62.0              0.025101          18000   \n",
       "1           67.0        84.0              0.034043          11626   \n",
       "2           67.0        55.0              0.022267           3569   \n",
       "3           63.0       165.0              0.067611          27418   \n",
       "4           65.0        74.0              0.029960          18019   \n",
       "\n",
       "   nearest_orbit_distance experiment_id  \n",
       "0                1.058373            54  \n",
       "1                2.858209            54  \n",
       "2                6.864561            54  \n",
       "3                2.618042            54  \n",
       "4                1.074728            54  "
      ]
     },
     "execution_count": 6,
     "metadata": {},
     "output_type": "execute_result"
    }
   ],
   "source": [
    "generation, generation_df = concatenate_and_check_orbits_from_experiment_folder(experiments_folder, csv_file_name='_generation_df.csv', np_file_name='_generated_orbits')\n",
    "generation_df.head()"
   ]
  },
  {
   "cell_type": "code",
   "execution_count": 7,
   "metadata": {},
   "outputs": [
    {
     "name": "stdout",
     "output_type": "stream",
     "text": [
      "(55200, 10)\n",
      "(55200, 7, 100)\n"
     ]
    }
   ],
   "source": [
    "print(generation_df.shape)\n",
    "print(generation.shape)"
   ]
  },
  {
   "cell_type": "markdown",
   "metadata": {},
   "source": [
    "## Filter Experiments"
   ]
  },
  {
   "cell_type": "code",
   "execution_count": 8,
   "metadata": {},
   "outputs": [],
   "source": [
    "n_exps=140\n",
    "\n",
    "refined_orbits_df['experiment_id'] = refined_orbits_df['experiment_id'].astype(int)\n",
    "generation_df['experiment_id'] = generation_df['experiment_id'].astype(int)\n",
    "\n",
    "refined_orbits_df = refined_orbits_df[refined_orbits_df['experiment_id'].between(1, n_exps)]\n",
    "generation_df = generation_df[generation_df['experiment_id'].between(1, n_exps)]\n",
    "\n",
    "# Filter the refined_orbits based on the shape of the filtered DataFrames\n",
    "refined_orbits = refined_orbits[:refined_orbits_df.shape[0]]\n",
    "generation = generation[:generation_df.shape[0]]"
   ]
  },
  {
   "cell_type": "code",
   "execution_count": 9,
   "metadata": {},
   "outputs": [
    {
     "data": {
      "text/plain": [
       "(15419, 44)"
      ]
     },
     "execution_count": 9,
     "metadata": {},
     "output_type": "execute_result"
    }
   ],
   "source": [
    "refined_orbits_df.shape"
   ]
  },
  {
   "cell_type": "code",
   "execution_count": 10,
   "metadata": {},
   "outputs": [
    {
     "data": {
      "text/plain": [
       "(15419, 7, 100)"
      ]
     },
     "execution_count": 10,
     "metadata": {},
     "output_type": "execute_result"
    }
   ],
   "source": [
    "refined_orbits.shape"
   ]
  },
  {
   "cell_type": "markdown",
   "metadata": {},
   "source": [
    "## Get Scalers"
   ]
  },
  {
   "cell_type": "code",
   "execution_count": 11,
   "metadata": {},
   "outputs": [
    {
     "data": {
      "text/plain": [
       "(45211, 7, 100)"
      ]
     },
     "execution_count": 11,
     "metadata": {},
     "output_type": "execute_result"
    }
   ],
   "source": [
    "data, orbit_df, labels, system_dict = get_first_period_dataset(file_path=data_path, segment_length=100)\n",
    "orbit_scaler = TSFeatureWiseScaler()        \n",
    "scaled_data = orbit_scaler.fit_transform(torch.tensor(data, dtype=torch.float32))\n",
    "scaled_data=scaled_data.numpy()\n",
    "scaled_data.shape"
   ]
  },
  {
   "cell_type": "code",
   "execution_count": 12,
   "metadata": {},
   "outputs": [
    {
     "data": {
      "text/plain": [
       "(45211, 38)"
      ]
     },
     "execution_count": 12,
     "metadata": {},
     "output_type": "execute_result"
    }
   ],
   "source": [
    "position_stats = calculate_per_orbit_spatial_statistics(scaled_data)\n",
    "position_stats = position_stats.reshape(position_stats.shape[0], -1)\n",
    "feature_names = ['period', 'jacobi']\n",
    "features = orbit_df[feature_names].values\n",
    "dataset_features_pos_stats = np.concatenate([features, position_stats], axis=1)\n",
    "\n",
    "input_scaler = StandardScaler()\n",
    "scaled_dataset_features_pos_stats = input_scaler.fit_transform(dataset_features_pos_stats)\n",
    "scaled_dataset_features_pos_stats.shape"
   ]
  },
  {
   "cell_type": "markdown",
   "metadata": {},
   "source": [
    "## Create Input"
   ]
  },
  {
   "cell_type": "code",
   "execution_count": 13,
   "metadata": {},
   "outputs": [
    {
     "data": {
      "text/plain": [
       "(15419, 6, 100)"
      ]
     },
     "execution_count": 13,
     "metadata": {},
     "output_type": "execute_result"
    }
   ],
   "source": [
    "scaled_refined_orbits = orbit_scaler.transform(torch.tensor(refined_orbits, dtype=torch.float32))\n",
    "scaled_refined_orbits = scaled_refined_orbits.numpy()\n",
    "scaled_refined_orbits = scaled_refined_orbits[:,1:,:]\n",
    "scaled_refined_orbits.shape "
   ]
  },
  {
   "cell_type": "code",
   "execution_count": 14,
   "metadata": {},
   "outputs": [
    {
     "data": {
      "text/plain": [
       "(15419, 36)"
      ]
     },
     "execution_count": 14,
     "metadata": {},
     "output_type": "execute_result"
    }
   ],
   "source": [
    "position_stats = calculate_per_orbit_spatial_statistics(scaled_refined_orbits)\n",
    "position_stats = position_stats.reshape(position_stats.shape[0], -1)\n",
    "position_stats.shape"
   ]
  },
  {
   "cell_type": "code",
   "execution_count": 15,
   "metadata": {},
   "outputs": [
    {
     "data": {
      "text/plain": [
       "(15419, 2)"
      ]
     },
     "execution_count": 15,
     "metadata": {},
     "output_type": "execute_result"
    }
   ],
   "source": [
    "feature_names = ['period', 'calculated_jacobi']\n",
    "features = refined_orbits_df[feature_names].values\n",
    "features.shape"
   ]
  },
  {
   "cell_type": "code",
   "execution_count": 16,
   "metadata": {},
   "outputs": [
    {
     "data": {
      "text/plain": [
       "(15419, 38)"
      ]
     },
     "execution_count": 16,
     "metadata": {},
     "output_type": "execute_result"
    }
   ],
   "source": [
    "# concatenate features and position stats\n",
    "features_pos_stats = np.concatenate([features, position_stats], axis=1)\n",
    "features_pos_stats.shape"
   ]
  },
  {
   "cell_type": "code",
   "execution_count": 17,
   "metadata": {},
   "outputs": [
    {
     "data": {
      "text/plain": [
       "(15419, 38)"
      ]
     },
     "execution_count": 17,
     "metadata": {},
     "output_type": "execute_result"
    }
   ],
   "source": [
    "scaled_features_pos_stats = input_scaler.transform(features_pos_stats)\n",
    "scaled_features_pos_stats.shape"
   ]
  },
  {
   "cell_type": "code",
   "execution_count": 18,
   "metadata": {},
   "outputs": [],
   "source": [
    "experiment_dict = df.set_index('id_experiment')['discarded_family_ids'].to_dict()\n",
    "refined_orbits_df['experiment_id'] = refined_orbits_df['experiment_id'].astype(int)\n",
    "refined_orbits_df['discarded_family_ids'] = refined_orbits_df['experiment_id'].map(experiment_dict)"
   ]
  },
  {
   "cell_type": "markdown",
   "metadata": {},
   "source": [
    "# Model"
   ]
  },
  {
   "cell_type": "code",
   "execution_count": 19,
   "metadata": {},
   "outputs": [],
   "source": [
    "with open(\"02_family_classification_model_2.pkl\", \"rb\") as f:\n",
    "    model = pickle.load(f)"
   ]
  },
  {
   "cell_type": "code",
   "execution_count": 20,
   "metadata": {},
   "outputs": [],
   "source": [
    "with open(\"02_family_classification_model_pos_stats.pkl\", \"rb\") as f:\n",
    "    model_pos_stats = pickle.load(f)"
   ]
  },
  {
   "cell_type": "code",
   "execution_count": 35,
   "metadata": {},
   "outputs": [],
   "source": [
    "with open(\"02_family_classification_model.pkl\", \"rb\") as f:\n",
    "    model_pos_stats = pickle.load(f)"
   ]
  },
  {
   "cell_type": "code",
   "execution_count": 36,
   "metadata": {},
   "outputs": [
    {
     "data": {
      "text/plain": [
       "(15419,)"
      ]
     },
     "execution_count": 36,
     "metadata": {},
     "output_type": "execute_result"
    }
   ],
   "source": [
    "predictions = model.predict(features_pos_stats)\n",
    "predictions.shape"
   ]
  },
  {
   "cell_type": "code",
   "execution_count": 37,
   "metadata": {},
   "outputs": [
    {
     "data": {
      "text/plain": [
       "(15419,)"
      ]
     },
     "execution_count": 37,
     "metadata": {},
     "output_type": "execute_result"
    }
   ],
   "source": [
    "predictions_pos_stats = model_pos_stats.predict(position_stats)\n",
    "predictions_pos_stats.shape"
   ]
  },
  {
   "cell_type": "markdown",
   "metadata": {},
   "source": [
    "# Analysis"
   ]
  },
  {
   "cell_type": "code",
   "execution_count": 38,
   "metadata": {},
   "outputs": [
    {
     "data": {
      "text/html": [
       "<div>\n",
       "<style scoped>\n",
       "    .dataframe tbody tr th:only-of-type {\n",
       "        vertical-align: middle;\n",
       "    }\n",
       "\n",
       "    .dataframe tbody tr th {\n",
       "        vertical-align: top;\n",
       "    }\n",
       "\n",
       "    .dataframe thead th {\n",
       "        text-align: right;\n",
       "    }\n",
       "</style>\n",
       "<table border=\"1\" class=\"dataframe\">\n",
       "  <thead>\n",
       "    <tr style=\"text-align: right;\">\n",
       "      <th></th>\n",
       "      <th>id</th>\n",
       "      <th>old_period</th>\n",
       "      <th>period</th>\n",
       "      <th>iterations_convergence</th>\n",
       "      <th>error</th>\n",
       "      <th>initial_pos_x0</th>\n",
       "      <th>initial_pos_y0</th>\n",
       "      <th>initial_pos_z0</th>\n",
       "      <th>initial_vel_x0</th>\n",
       "      <th>initial_vel_y0</th>\n",
       "      <th>initial_vel_z0</th>\n",
       "      <th>final_pos_x0</th>\n",
       "      <th>final_pos_y0</th>\n",
       "      <th>final_pos_z0</th>\n",
       "      <th>final_vel_x0</th>\n",
       "      <th>final_vel_y0</th>\n",
       "      <th>final_vel_z0</th>\n",
       "      <th>disorder_metric</th>\n",
       "      <th>correct_order</th>\n",
       "      <th>inversions</th>\n",
       "      <th>kendall_tau_distance</th>\n",
       "      <th>propagated_position_error</th>\n",
       "      <th>propagated_velocity_error</th>\n",
       "      <th>propagated_energy_error</th>\n",
       "      <th>latent_distance_to_generation</th>\n",
       "      <th>calculated_jacobi</th>\n",
       "      <th>period_distance_with_generation</th>\n",
       "      <th>feature_closest_orbit</th>\n",
       "      <th>feature_distance_from_closest_orbit</th>\n",
       "      <th>nearest_orbit</th>\n",
       "      <th>nearest_orbit_distance</th>\n",
       "      <th>distance_from_generation</th>\n",
       "      <th>centroid_distance</th>\n",
       "      <th>feature_centroid_distance</th>\n",
       "      <th>closest_family_centroid</th>\n",
       "      <th>closest_family_centroid_distance</th>\n",
       "      <th>closest_family_feature_centroid</th>\n",
       "      <th>closest_family_feature_centroid_distance</th>\n",
       "      <th>initial_conditions_distance</th>\n",
       "      <th>closest_family_full_centroid</th>\n",
       "      <th>closest_family_full_centroid_distance</th>\n",
       "      <th>family_of_feature_closest_orbit</th>\n",
       "      <th>family_of_closest_orbit</th>\n",
       "      <th>experiment_id</th>\n",
       "      <th>discarded_family_ids</th>\n",
       "      <th>ml_family_classification</th>\n",
       "      <th>ml_family_classification_pos_stats</th>\n",
       "      <th>is_ml_discovered</th>\n",
       "    </tr>\n",
       "  </thead>\n",
       "  <tbody>\n",
       "    <tr>\n",
       "      <th>0</th>\n",
       "      <td>0</td>\n",
       "      <td>2.825363</td>\n",
       "      <td>3.395283</td>\n",
       "      <td>9</td>\n",
       "      <td>2.866915e-13</td>\n",
       "      <td>1.085847</td>\n",
       "      <td>0.005968</td>\n",
       "      <td>-0.006422</td>\n",
       "      <td>0.007797</td>\n",
       "      <td>0.193831</td>\n",
       "      <td>-0.008355</td>\n",
       "      <td>1.131194</td>\n",
       "      <td>-0.024008</td>\n",
       "      <td>2.689891e-16</td>\n",
       "      <td>-0.007002</td>\n",
       "      <td>0.117360</td>\n",
       "      <td>-2.899136e-15</td>\n",
       "      <td>372.0</td>\n",
       "      <td>66.0</td>\n",
       "      <td>255.0</td>\n",
       "      <td>0.103030</td>\n",
       "      <td>1.329037e-12</td>\n",
       "      <td>2.465352e-12</td>\n",
       "      <td>1.481195e-14</td>\n",
       "      <td>0.116331</td>\n",
       "      <td>3.173176</td>\n",
       "      <td>0.569921</td>\n",
       "      <td>17972</td>\n",
       "      <td>0.000104</td>\n",
       "      <td>17976</td>\n",
       "      <td>0.409855</td>\n",
       "      <td>1.208203</td>\n",
       "      <td>0.830977</td>\n",
       "      <td>3.933960</td>\n",
       "      <td>22</td>\n",
       "      <td>0.166260</td>\n",
       "      <td>6</td>\n",
       "      <td>0.645355</td>\n",
       "      <td>0.095566</td>\n",
       "      <td>6</td>\n",
       "      <td>0.121419</td>\n",
       "      <td>15.0</td>\n",
       "      <td>15.0</td>\n",
       "      <td>54</td>\n",
       "      <td>[7.0, 6.0, 10.0, 11.0, 20.0]</td>\n",
       "      <td>3.0</td>\n",
       "      <td>15.0</td>\n",
       "      <td>False</td>\n",
       "    </tr>\n",
       "    <tr>\n",
       "      <th>1</th>\n",
       "      <td>3</td>\n",
       "      <td>6.410875</td>\n",
       "      <td>6.306637</td>\n",
       "      <td>9</td>\n",
       "      <td>3.831047e-10</td>\n",
       "      <td>1.077167</td>\n",
       "      <td>0.244604</td>\n",
       "      <td>0.427690</td>\n",
       "      <td>0.050803</td>\n",
       "      <td>-1.548356</td>\n",
       "      <td>0.846692</td>\n",
       "      <td>0.774984</td>\n",
       "      <td>0.387647</td>\n",
       "      <td>4.910636e-01</td>\n",
       "      <td>0.073323</td>\n",
       "      <td>-1.206546</td>\n",
       "      <td>8.439762e-01</td>\n",
       "      <td>150.0</td>\n",
       "      <td>69.0</td>\n",
       "      <td>98.0</td>\n",
       "      <td>0.039596</td>\n",
       "      <td>6.852558e-12</td>\n",
       "      <td>1.434101e-11</td>\n",
       "      <td>2.466171e-11</td>\n",
       "      <td>0.239348</td>\n",
       "      <td>0.591147</td>\n",
       "      <td>0.104238</td>\n",
       "      <td>30631</td>\n",
       "      <td>0.000694</td>\n",
       "      <td>27453</td>\n",
       "      <td>3.967637</td>\n",
       "      <td>4.725327</td>\n",
       "      <td>2.500625</td>\n",
       "      <td>2.045136</td>\n",
       "      <td>18</td>\n",
       "      <td>0.486709</td>\n",
       "      <td>15</td>\n",
       "      <td>0.159043</td>\n",
       "      <td>0.482846</td>\n",
       "      <td>23</td>\n",
       "      <td>0.482840</td>\n",
       "      <td>29.0</td>\n",
       "      <td>25.0</td>\n",
       "      <td>54</td>\n",
       "      <td>[7.0, 6.0, 10.0, 11.0, 20.0]</td>\n",
       "      <td>40.0</td>\n",
       "      <td>25.0</td>\n",
       "      <td>False</td>\n",
       "    </tr>\n",
       "    <tr>\n",
       "      <th>2</th>\n",
       "      <td>5</td>\n",
       "      <td>2.774760</td>\n",
       "      <td>3.382448</td>\n",
       "      <td>8</td>\n",
       "      <td>1.560247e-13</td>\n",
       "      <td>1.078207</td>\n",
       "      <td>0.011581</td>\n",
       "      <td>0.003735</td>\n",
       "      <td>0.007048</td>\n",
       "      <td>0.144430</td>\n",
       "      <td>-0.018307</td>\n",
       "      <td>1.140318</td>\n",
       "      <td>-0.014000</td>\n",
       "      <td>-7.494117e-14</td>\n",
       "      <td>-0.005923</td>\n",
       "      <td>0.077325</td>\n",
       "      <td>1.243685e-13</td>\n",
       "      <td>276.0</td>\n",
       "      <td>64.0</td>\n",
       "      <td>187.0</td>\n",
       "      <td>0.075556</td>\n",
       "      <td>1.162738e-12</td>\n",
       "      <td>2.025713e-12</td>\n",
       "      <td>3.925031e-15</td>\n",
       "      <td>0.140431</td>\n",
       "      <td>3.179420</td>\n",
       "      <td>0.607688</td>\n",
       "      <td>17992</td>\n",
       "      <td>0.000240</td>\n",
       "      <td>17992</td>\n",
       "      <td>0.169285</td>\n",
       "      <td>1.082909</td>\n",
       "      <td>0.824064</td>\n",
       "      <td>3.947770</td>\n",
       "      <td>22</td>\n",
       "      <td>0.173278</td>\n",
       "      <td>6</td>\n",
       "      <td>0.659336</td>\n",
       "      <td>0.097635</td>\n",
       "      <td>6</td>\n",
       "      <td>0.114895</td>\n",
       "      <td>15.0</td>\n",
       "      <td>15.0</td>\n",
       "      <td>54</td>\n",
       "      <td>[7.0, 6.0, 10.0, 11.0, 20.0]</td>\n",
       "      <td>3.0</td>\n",
       "      <td>15.0</td>\n",
       "      <td>False</td>\n",
       "    </tr>\n",
       "    <tr>\n",
       "      <th>3</th>\n",
       "      <td>11</td>\n",
       "      <td>22.927443</td>\n",
       "      <td>22.944445</td>\n",
       "      <td>9</td>\n",
       "      <td>6.897051e-12</td>\n",
       "      <td>1.048586</td>\n",
       "      <td>0.020412</td>\n",
       "      <td>-0.036356</td>\n",
       "      <td>0.013088</td>\n",
       "      <td>0.715763</td>\n",
       "      <td>-0.018567</td>\n",
       "      <td>0.906908</td>\n",
       "      <td>0.048871</td>\n",
       "      <td>-1.470502e-02</td>\n",
       "      <td>0.185644</td>\n",
       "      <td>0.562421</td>\n",
       "      <td>2.131846e-02</td>\n",
       "      <td>4.0</td>\n",
       "      <td>98.0</td>\n",
       "      <td>2.0</td>\n",
       "      <td>0.000808</td>\n",
       "      <td>7.630890e-12</td>\n",
       "      <td>1.316706e-11</td>\n",
       "      <td>2.564077e-12</td>\n",
       "      <td>0.045951</td>\n",
       "      <td>2.885993</td>\n",
       "      <td>0.017003</td>\n",
       "      <td>42943</td>\n",
       "      <td>0.003184</td>\n",
       "      <td>42922</td>\n",
       "      <td>2.087514</td>\n",
       "      <td>2.232660</td>\n",
       "      <td>1.988188</td>\n",
       "      <td>15.698535</td>\n",
       "      <td>32</td>\n",
       "      <td>0.302875</td>\n",
       "      <td>37</td>\n",
       "      <td>1.264695</td>\n",
       "      <td>0.276101</td>\n",
       "      <td>37</td>\n",
       "      <td>0.300966</td>\n",
       "      <td>40.0</td>\n",
       "      <td>40.0</td>\n",
       "      <td>54</td>\n",
       "      <td>[7.0, 6.0, 10.0, 11.0, 20.0]</td>\n",
       "      <td>22.0</td>\n",
       "      <td>40.0</td>\n",
       "      <td>False</td>\n",
       "    </tr>\n",
       "    <tr>\n",
       "      <th>4</th>\n",
       "      <td>14</td>\n",
       "      <td>6.659652</td>\n",
       "      <td>5.645048</td>\n",
       "      <td>6</td>\n",
       "      <td>3.873477e-12</td>\n",
       "      <td>0.787035</td>\n",
       "      <td>-0.122416</td>\n",
       "      <td>0.049502</td>\n",
       "      <td>0.276159</td>\n",
       "      <td>0.940814</td>\n",
       "      <td>-0.412493</td>\n",
       "      <td>0.642761</td>\n",
       "      <td>-0.185012</td>\n",
       "      <td>1.920668e-02</td>\n",
       "      <td>0.314235</td>\n",
       "      <td>0.605758</td>\n",
       "      <td>-3.829873e-01</td>\n",
       "      <td>68.0</td>\n",
       "      <td>78.0</td>\n",
       "      <td>36.0</td>\n",
       "      <td>0.014545</td>\n",
       "      <td>1.742954e-12</td>\n",
       "      <td>3.321685e-12</td>\n",
       "      <td>1.132078e-12</td>\n",
       "      <td>0.263792</td>\n",
       "      <td>2.810963</td>\n",
       "      <td>1.014603</td>\n",
       "      <td>28414</td>\n",
       "      <td>0.000941</td>\n",
       "      <td>28420</td>\n",
       "      <td>0.970354</td>\n",
       "      <td>2.066139</td>\n",
       "      <td>0.323756</td>\n",
       "      <td>1.658958</td>\n",
       "      <td>19</td>\n",
       "      <td>0.222946</td>\n",
       "      <td>14</td>\n",
       "      <td>0.327624</td>\n",
       "      <td>0.374478</td>\n",
       "      <td>24</td>\n",
       "      <td>0.221195</td>\n",
       "      <td>26.0</td>\n",
       "      <td>26.0</td>\n",
       "      <td>54</td>\n",
       "      <td>[7.0, 6.0, 10.0, 11.0, 20.0]</td>\n",
       "      <td>22.0</td>\n",
       "      <td>26.0</td>\n",
       "      <td>False</td>\n",
       "    </tr>\n",
       "  </tbody>\n",
       "</table>\n",
       "</div>"
      ],
      "text/plain": [
       "   id  old_period     period  iterations_convergence         error  \\\n",
       "0   0    2.825363   3.395283                       9  2.866915e-13   \n",
       "1   3    6.410875   6.306637                       9  3.831047e-10   \n",
       "2   5    2.774760   3.382448                       8  1.560247e-13   \n",
       "3  11   22.927443  22.944445                       9  6.897051e-12   \n",
       "4  14    6.659652   5.645048                       6  3.873477e-12   \n",
       "\n",
       "   initial_pos_x0  initial_pos_y0  initial_pos_z0  initial_vel_x0  \\\n",
       "0        1.085847        0.005968       -0.006422        0.007797   \n",
       "1        1.077167        0.244604        0.427690        0.050803   \n",
       "2        1.078207        0.011581        0.003735        0.007048   \n",
       "3        1.048586        0.020412       -0.036356        0.013088   \n",
       "4        0.787035       -0.122416        0.049502        0.276159   \n",
       "\n",
       "   initial_vel_y0  initial_vel_z0  final_pos_x0  final_pos_y0  final_pos_z0  \\\n",
       "0        0.193831       -0.008355      1.131194     -0.024008  2.689891e-16   \n",
       "1       -1.548356        0.846692      0.774984      0.387647  4.910636e-01   \n",
       "2        0.144430       -0.018307      1.140318     -0.014000 -7.494117e-14   \n",
       "3        0.715763       -0.018567      0.906908      0.048871 -1.470502e-02   \n",
       "4        0.940814       -0.412493      0.642761     -0.185012  1.920668e-02   \n",
       "\n",
       "   final_vel_x0  final_vel_y0  final_vel_z0  disorder_metric  correct_order  \\\n",
       "0     -0.007002      0.117360 -2.899136e-15            372.0           66.0   \n",
       "1      0.073323     -1.206546  8.439762e-01            150.0           69.0   \n",
       "2     -0.005923      0.077325  1.243685e-13            276.0           64.0   \n",
       "3      0.185644      0.562421  2.131846e-02              4.0           98.0   \n",
       "4      0.314235      0.605758 -3.829873e-01             68.0           78.0   \n",
       "\n",
       "   inversions  kendall_tau_distance  propagated_position_error  \\\n",
       "0       255.0              0.103030               1.329037e-12   \n",
       "1        98.0              0.039596               6.852558e-12   \n",
       "2       187.0              0.075556               1.162738e-12   \n",
       "3         2.0              0.000808               7.630890e-12   \n",
       "4        36.0              0.014545               1.742954e-12   \n",
       "\n",
       "   propagated_velocity_error  propagated_energy_error  \\\n",
       "0               2.465352e-12             1.481195e-14   \n",
       "1               1.434101e-11             2.466171e-11   \n",
       "2               2.025713e-12             3.925031e-15   \n",
       "3               1.316706e-11             2.564077e-12   \n",
       "4               3.321685e-12             1.132078e-12   \n",
       "\n",
       "   latent_distance_to_generation  calculated_jacobi  \\\n",
       "0                       0.116331           3.173176   \n",
       "1                       0.239348           0.591147   \n",
       "2                       0.140431           3.179420   \n",
       "3                       0.045951           2.885993   \n",
       "4                       0.263792           2.810963   \n",
       "\n",
       "   period_distance_with_generation  feature_closest_orbit  \\\n",
       "0                         0.569921                  17972   \n",
       "1                         0.104238                  30631   \n",
       "2                         0.607688                  17992   \n",
       "3                         0.017003                  42943   \n",
       "4                         1.014603                  28414   \n",
       "\n",
       "   feature_distance_from_closest_orbit  nearest_orbit  nearest_orbit_distance  \\\n",
       "0                             0.000104          17976                0.409855   \n",
       "1                             0.000694          27453                3.967637   \n",
       "2                             0.000240          17992                0.169285   \n",
       "3                             0.003184          42922                2.087514   \n",
       "4                             0.000941          28420                0.970354   \n",
       "\n",
       "   distance_from_generation  centroid_distance  feature_centroid_distance  \\\n",
       "0                  1.208203           0.830977                   3.933960   \n",
       "1                  4.725327           2.500625                   2.045136   \n",
       "2                  1.082909           0.824064                   3.947770   \n",
       "3                  2.232660           1.988188                  15.698535   \n",
       "4                  2.066139           0.323756                   1.658958   \n",
       "\n",
       "   closest_family_centroid  closest_family_centroid_distance  \\\n",
       "0                       22                          0.166260   \n",
       "1                       18                          0.486709   \n",
       "2                       22                          0.173278   \n",
       "3                       32                          0.302875   \n",
       "4                       19                          0.222946   \n",
       "\n",
       "   closest_family_feature_centroid  closest_family_feature_centroid_distance  \\\n",
       "0                                6                                  0.645355   \n",
       "1                               15                                  0.159043   \n",
       "2                                6                                  0.659336   \n",
       "3                               37                                  1.264695   \n",
       "4                               14                                  0.327624   \n",
       "\n",
       "   initial_conditions_distance  closest_family_full_centroid  \\\n",
       "0                     0.095566                             6   \n",
       "1                     0.482846                            23   \n",
       "2                     0.097635                             6   \n",
       "3                     0.276101                            37   \n",
       "4                     0.374478                            24   \n",
       "\n",
       "   closest_family_full_centroid_distance  family_of_feature_closest_orbit  \\\n",
       "0                               0.121419                             15.0   \n",
       "1                               0.482840                             29.0   \n",
       "2                               0.114895                             15.0   \n",
       "3                               0.300966                             40.0   \n",
       "4                               0.221195                             26.0   \n",
       "\n",
       "   family_of_closest_orbit  experiment_id          discarded_family_ids  \\\n",
       "0                     15.0             54  [7.0, 6.0, 10.0, 11.0, 20.0]   \n",
       "1                     25.0             54  [7.0, 6.0, 10.0, 11.0, 20.0]   \n",
       "2                     15.0             54  [7.0, 6.0, 10.0, 11.0, 20.0]   \n",
       "3                     40.0             54  [7.0, 6.0, 10.0, 11.0, 20.0]   \n",
       "4                     26.0             54  [7.0, 6.0, 10.0, 11.0, 20.0]   \n",
       "\n",
       "   ml_family_classification  ml_family_classification_pos_stats  \\\n",
       "0                       3.0                                15.0   \n",
       "1                      40.0                                25.0   \n",
       "2                       3.0                                15.0   \n",
       "3                      22.0                                40.0   \n",
       "4                      22.0                                26.0   \n",
       "\n",
       "   is_ml_discovered  \n",
       "0             False  \n",
       "1             False  \n",
       "2             False  \n",
       "3             False  \n",
       "4             False  "
      ]
     },
     "execution_count": 38,
     "metadata": {},
     "output_type": "execute_result"
    }
   ],
   "source": [
    "refined_orbits_df['ml_family_classification'] = predictions\n",
    "refined_orbits_df['ml_family_classification_pos_stats'] = predictions_pos_stats\n",
    "refined_orbits_df.head()"
   ]
  },
  {
   "cell_type": "code",
   "execution_count": 39,
   "metadata": {},
   "outputs": [
    {
     "name": "stderr",
     "output_type": "stream",
     "text": [
      "/tmp/ipykernel_91689/1080533249.py:1: DeprecationWarning: DataFrameGroupBy.apply operated on the grouping columns. This behavior is deprecated, and in a future version of pandas the grouping columns will be excluded from the operation. Either pass `include_groups=False` to exclude the groupings or explicitly select the grouping columns after groupby to silence this warning.\n",
      "  value_index_dict = refined_orbits_df.groupby('ml_family_classification').apply(lambda x: x.index.tolist()).to_dict()\n"
     ]
    }
   ],
   "source": [
    "value_index_dict = refined_orbits_df.groupby('ml_family_classification').apply(lambda x: x.index.tolist()).to_dict()"
   ]
  },
  {
   "cell_type": "code",
   "execution_count": 40,
   "metadata": {},
   "outputs": [
    {
     "data": {
      "image/png": "[encoded data removed]",
      "text/plain": [
       "<Figure size 640x480 with 2 Axes>"
      ]
     },
     "metadata": {},
     "output_type": "display_data"
    }
   ],
   "source": [
    "import matplotlib.pyplot as plt\n",
    "\n",
    "def plot_family_classification_matches(refined_orbits_df, classification_column):\n",
    "    # Calculate counts\n",
    "    ml_family_counts = refined_orbits_df[classification_column].value_counts()\n",
    "    family_of_closest_counts = refined_orbits_df['family_of_closest_orbit'].value_counts()\n",
    "    family_of_feature_counts = refined_orbits_df['family_of_feature_closest_orbit'].value_counts()\n",
    "\n",
    "    # Calculate matches\n",
    "    matches_closest = (refined_orbits_df[classification_column] == refined_orbits_df['family_of_closest_orbit']).sum()\n",
    "    matches_feature = (refined_orbits_df[classification_column] == refined_orbits_df['family_of_feature_closest_orbit']).sum()\n",
    "\n",
    "    # Calculate percentages\n",
    "    total_count = len(refined_orbits_df)\n",
    "    percent_closest = (matches_closest / total_count) * 100\n",
    "    percent_feature = (matches_feature / total_count) * 100\n",
    "\n",
    "    # Prepare data for plotting\n",
    "    labels = ['Matches with Closest Orbit', 'Matches with Feature Closest Orbit']\n",
    "    counts = [matches_closest, matches_feature]\n",
    "    percentages = [percent_closest, percent_feature]\n",
    "\n",
    "    # Create a bar plot\n",
    "    x = range(len(labels))\n",
    "    fig, ax1 = plt.subplots()\n",
    "\n",
    "    # Bar plot for counts\n",
    "    bars = ax1.bar(x, counts, color=['blue', 'orange'], alpha=0.7, label='Count')\n",
    "    ax1.set_xticks(x)\n",
    "    ax1.set_xticklabels(labels)\n",
    "    ax1.set_ylabel('Count')\n",
    "    ax1.set_ylim(0, total_count)\n",
    "    ax1.set_title('Comparison of ml_family_classification Matches')\n",
    "\n",
    "    # Add count and percentage on top of the bars\n",
    "    for bar, count, percent in zip(bars, counts, percentages):\n",
    "        yval = bar.get_height()\n",
    "        ax1.text(bar.get_x() + bar.get_width()/2, yval, f'{count}\\n({percent:.1f}%)', ha='center', va='bottom')\n",
    "\n",
    "    # Create a second y-axis for percentages\n",
    "    ax2 = ax1.twinx()\n",
    "    ax2.set_ylim(0, 100)  # Set y-axis limit for percentage\n",
    "    ax2.set_ylabel('Percentage (%)')\n",
    "\n",
    "    # Adjust the ticks on the second y-axis to match the percentage scale\n",
    "    ax2.set_yticks(range(0, 101, 10))\n",
    "\n",
    "    plt.grid(axis='y')\n",
    "    plt.show()\n",
    "\n",
    "# Call the function with the desired column\n",
    "plot_family_classification_matches(refined_orbits_df, 'ml_family_classification')\n"
   ]
  },
  {
   "cell_type": "code",
   "execution_count": 41,
   "metadata": {},
   "outputs": [
    {
     "data": {
      "image/png": "[encoded data removed]",
      "text/plain": [
       "<Figure size 640x480 with 2 Axes>"
      ]
     },
     "metadata": {},
     "output_type": "display_data"
    }
   ],
   "source": [
    "plot_family_classification_matches(refined_orbits_df, 'ml_family_classification_pos_stats')\n"
   ]
  },
  {
   "cell_type": "code",
   "execution_count": 42,
   "metadata": {},
   "outputs": [
    {
     "data": {
      "text/plain": [
       "(15419, 48)"
      ]
     },
     "execution_count": 42,
     "metadata": {},
     "output_type": "execute_result"
    }
   ],
   "source": [
    "refined_orbits_df.shape"
   ]
  },
  {
   "cell_type": "code",
   "execution_count": 43,
   "metadata": {},
   "outputs": [],
   "source": [
    "refined_orbits_df['is_ml_discovered'] = refined_orbits_df.apply(\n",
    "    lambda row: row['ml_family_classification'] in row['discarded_family_ids'], axis=1\n",
    ")"
   ]
  },
  {
   "cell_type": "code",
   "execution_count": 44,
   "metadata": {},
   "outputs": [
    {
     "data": {
      "text/plain": [
       "(5325, 48)"
      ]
     },
     "execution_count": 44,
     "metadata": {},
     "output_type": "execute_result"
    }
   ],
   "source": [
    "discovery_df = refined_orbits_df[refined_orbits_df['is_ml_discovered'] == True]\n",
    "discovery_df.shape"
   ]
  },
  {
   "cell_type": "code",
   "execution_count": 45,
   "metadata": {},
   "outputs": [
    {
     "data": {
      "text/plain": [
       "ml_family_classification\n",
       "22.0    2459\n",
       "40.0    2111\n",
       "3.0      751\n",
       "39.0       2\n",
       "42.0       2\n",
       "Name: count, dtype: int64"
      ]
     },
     "execution_count": 45,
     "metadata": {},
     "output_type": "execute_result"
    }
   ],
   "source": [
    "discovery_df['ml_family_classification'].value_counts()"
   ]
  },
  {
   "cell_type": "code",
   "execution_count": 50,
   "metadata": {},
   "outputs": [
    {
     "data": {
      "text/plain": [
       "ml_family_classification_pos_stats\n",
       "5.0     590\n",
       "10.0    523\n",
       "21.0    391\n",
       "25.0    276\n",
       "26.0    270\n",
       "22.0    240\n",
       "34.0    216\n",
       "29.0    198\n",
       "35.0    189\n",
       "33.0    167\n",
       "20.0    155\n",
       "11.0    153\n",
       "28.0    153\n",
       "37.0    152\n",
       "8.0     147\n",
       "17.0    129\n",
       "40.0    125\n",
       "7.0     123\n",
       "16.0    122\n",
       "24.0    122\n",
       "32.0    115\n",
       "39.0     98\n",
       "4.0      87\n",
       "36.0     86\n",
       "9.0      65\n",
       "14.0     53\n",
       "15.0     52\n",
       "1.0      52\n",
       "2.0      48\n",
       "18.0     47\n",
       "19.0     46\n",
       "13.0     40\n",
       "12.0     35\n",
       "31.0     23\n",
       "6.0      15\n",
       "41.0     14\n",
       "3.0       6\n",
       "30.0      1\n",
       "38.0      1\n",
       "Name: count, dtype: int64"
      ]
     },
     "execution_count": 50,
     "metadata": {},
     "output_type": "execute_result"
    }
   ],
   "source": [
    "discovery_df['ml_family_classification_pos_stats'].value_counts()"
   ]
  },
  {
   "cell_type": "markdown",
   "metadata": {},
   "source": [
    "# Test"
   ]
  },
  {
   "cell_type": "code",
   "execution_count": 47,
   "metadata": {},
   "outputs": [
    {
     "data": {
      "text/plain": [
       "(45211,)"
      ]
     },
     "execution_count": 47,
     "metadata": {},
     "output_type": "execute_result"
    }
   ],
   "source": [
    "predictions = model.predict(scaled_dataset_features_pos_stats)\n",
    "predictions.shape"
   ]
  },
  {
   "cell_type": "code",
   "execution_count": 48,
   "metadata": {},
   "outputs": [
    {
     "data": {
      "text/plain": [
       "ml_family_classification\n",
       "31.0    1713\n",
       "14.0    1490\n",
       "13.0    1490\n",
       "3.0     1409\n",
       "6.0     1409\n",
       "7.0     1290\n",
       "32.0    1282\n",
       "30.0    1263\n",
       "15.0    1232\n",
       "20.0    1177\n",
       "24.0    1168\n",
       "21.0    1168\n",
       "28.0    1168\n",
       "17.0    1144\n",
       "9.0     1115\n",
       "8.0     1115\n",
       "12.0    1107\n",
       "1.0     1103\n",
       "10.0    1102\n",
       "33.0    1092\n",
       "42.0    1075\n",
       "40.0    1073\n",
       "11.0    1072\n",
       "36.0    1068\n",
       "16.0    1067\n",
       "37.0    1058\n",
       "34.0    1043\n",
       "39.0    1028\n",
       "29.0    1020\n",
       "25.0    1020\n",
       "38.0    1014\n",
       "35.0    1013\n",
       "19.0    1004\n",
       "18.0    1004\n",
       "41.0    1003\n",
       "22.0    1002\n",
       "26.0    1002\n",
       "4.0      996\n",
       "2.0      991\n",
       "5.0      621\n",
       "Name: count, dtype: int64"
      ]
     },
     "execution_count": 48,
     "metadata": {},
     "output_type": "execute_result"
    }
   ],
   "source": [
    "predictions_df = pd.DataFrame(predictions, columns=['ml_family_classification'])\n",
    "predictions_df['ml_family_classification'].value_counts()\n"
   ]
  }
 ],
 "metadata": {
  "kernelspec": {
   "display_name": "Python 3",
   "language": "python",
   "name": "python3"
  },
  "language_info": {
   "codemirror_mode": {
    "name": "ipython",
    "version": 3
   },
   "file_extension": ".py",
   "mimetype": "text/x-python",
   "name": "python",
   "nbconvert_exporter": "python",
   "pygments_lexer": "ipython3",
   "version": "3.10.12"
  }
 },
 "nbformat": 4,
 "nbformat_minor": 2
}
