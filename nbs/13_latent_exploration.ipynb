{
 "cells": [
  {
   "cell_type": "markdown",
   "metadata": {},
   "source": [
    "# Latent Exploration\n",
    "\n",
    "> Scripts to explore the Latent Space"
   ]
  },
  {
   "cell_type": "code",
   "execution_count": 13,
   "metadata": {},
   "outputs": [],
   "source": [
    "#| default_exp latent_exploration"
   ]
  },
  {
   "cell_type": "code",
   "execution_count": 14,
   "metadata": {},
   "outputs": [],
   "source": [
    "#| export\n",
    "#| hide\n",
    "import numpy as np\n",
    "from itertools import combinations\n",
    "from scipy.spatial.distance import cdist"
   ]
  },
  {
   "cell_type": "code",
   "execution_count": 15,
   "metadata": {},
   "outputs": [],
   "source": [
    "#| hide\n",
    "from fastcore.test import test_eq"
   ]
  },
  {
   "cell_type": "code",
   "execution_count": 16,
   "metadata": {},
   "outputs": [],
   "source": [
    "#| export\n",
    "def linear_interpolation(z1, z2, steps):\n",
    "    \"\"\"Perform linear interpolation between two points.\"\"\"\n",
    "    return np.linspace(z1, z2, steps)\n",
    "\n",
    "def slerp(z1, z2, steps):\n",
    "    \"\"\"Perform spherical linear interpolation between two points.\"\"\"\n",
    "    z1_norm = z1 / np.linalg.norm(z1)\n",
    "    z2_norm = z2 / np.linalg.norm(z2)\n",
    "    dot_product = np.clip(np.dot(z1_norm, z2_norm), -1.0, 1.0)\n",
    "    omega = np.arccos(dot_product)\n",
    "    if omega == 0:\n",
    "        return np.tile(z1, (steps, 1))\n",
    "    sin_omega = np.sin(omega)\n",
    "    return np.array([\n",
    "        (np.sin((1 - t) * omega) / sin_omega) * z1 +\n",
    "        (np.sin(t * omega) / sin_omega) * z2\n",
    "        for t in np.linspace(0, 1, steps)\n",
    "    ])\n",
    "\n",
    "def interpolate_sample(centroids, granularity=10, variance=0.0):\n",
    "    \"\"\"\n",
    "    Perform interpolating sampling between all pairs of centroids.\n",
    "\n",
    "    Parameters:\n",
    "    - centroids (np.ndarray): Array of shape (n_centroids, latent_dim).\n",
    "    - granularity (int): Number of interpolation steps between each pair.\n",
    "    - variance (float): Standard deviation for Gaussian sampling.\n",
    "\n",
    "    Returns:\n",
    "    - samples (np.ndarray): Array of sampled points.\n",
    "    \"\"\"\n",
    "    latent_dim = centroids.shape[1]\n",
    "    samples = []\n",
    "\n",
    "    for z1, z2 in combinations(centroids, 2):\n",
    "        if latent_dim <= 2:\n",
    "            interpolated = linear_interpolation(z1, z2, granularity)\n",
    "        else:\n",
    "            interpolated = slerp(z1, z2, granularity)\n",
    "        \n",
    "        if variance > 0:\n",
    "            noise = np.random.normal(0, variance, interpolated.shape)\n",
    "            interpolated += noise\n",
    "        \n",
    "        samples.append(interpolated)\n",
    "    \n",
    "    if samples:\n",
    "        return np.vstack(samples)\n",
    "    else:\n",
    "        return np.empty((0, latent_dim))"
   ]
  },
  {
   "cell_type": "code",
   "execution_count": 17,
   "metadata": {},
   "outputs": [],
   "source": [
    "# Define example centroids for a 2-dimensional latent space\n",
    "centroids = np.array([\n",
    "    [1.0, 2.0],\n",
    "    [3.0, 4.0],\n",
    "    [5.0, 6.0]\n",
    "])\n",
    "\n",
    "granularity = 3\n",
    "variance = 0.0  # Set to 0 for deterministic interpolation\n",
    "\n",
    "sampled_points = interpolate_sample(centroids, granularity, variance)\n",
    "\n",
    "# Define the expected sampled points manually for granularity=3\n",
    "expected_data = np.array([\n",
    "    [1.0, 2.0],\n",
    "    [2.0, 3.0],\n",
    "    [3.0, 4.0],\n",
    "    [1.0, 2.0],\n",
    "    [3.0, 4.0],\n",
    "    [5.0, 6.0],\n",
    "    [3.0, 4.0],\n",
    "    [4.0, 5.0],\n",
    "    [5.0, 6.0]\n",
    "])\n",
    "\n",
    "# Check the sampled points against the expected data\n",
    "test_eq(sampled_points, expected_data)"
   ]
  },
  {
   "cell_type": "code",
   "execution_count": 18,
   "metadata": {},
   "outputs": [],
   "source": [
    "#| hide\n",
    "import nbdev; nbdev.nbdev_export()"
   ]
  }
 ],
 "metadata": {
  "kernelspec": {
   "display_name": "Python (PyTorch)",
   "language": "python",
   "name": "pytorch"
  },
  "language_info": {
   "codemirror_mode": {
    "name": "ipython",
    "version": 3
   },
   "file_extension": ".py",
   "mimetype": "text/x-python",
   "name": "python",
   "nbconvert_exporter": "python",
   "pygments_lexer": "ipython3",
   "version": "3.10.12"
  }
 },
 "nbformat": 4,
 "nbformat_minor": 2
}
