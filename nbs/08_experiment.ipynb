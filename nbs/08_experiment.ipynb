{
 "cells": [
  {
   "cell_type": "markdown",
   "metadata": {},
   "source": [
    "# Experiment\n",
    "\n",
    "> Scripts to perform the experiments"
   ]
  },
  {
   "cell_type": "code",
   "execution_count": 10,
   "metadata": {},
   "outputs": [],
   "source": [
    "#| default_exp experiment"
   ]
  },
  {
   "cell_type": "code",
   "execution_count": 11,
   "metadata": {},
   "outputs": [],
   "source": [
    "#| export\n",
    "#| hide\n",
    "import os\n",
    "import csv\n",
    "import pandas as pd\n",
    "import subprocess\n",
    "import numpy as np\n",
    "import shutil\n",
    "import json\n",
    "from typing import Dict, Any, List, Optional, Tuple\n",
    "\n",
    "from orbit_generation.constants import ORBIT_CLASS_DF"
   ]
  },
  {
   "cell_type": "code",
   "execution_count": 12,
   "metadata": {},
   "outputs": [],
   "source": [
    "#| hide\n",
    "from fastcore.test import test_eq"
   ]
  },
  {
   "cell_type": "markdown",
   "metadata": {},
   "source": [
    "## Setup"
   ]
  },
  {
   "cell_type": "code",
   "execution_count": 13,
   "metadata": {},
   "outputs": [],
   "source": [
    "#| export\n",
    "def setup_new_experiment(params: Dict[str, Any],              # Dictionary of parameters for the new experiment.\n",
    "                         experiments_folder: str,             # Path to the folder containing all experiments.\n",
    "                         json_file: Optional[str] = None      # Optional path to the JSON file tracking experiment parameters.\n",
    "                        ) -> str:                             # The path to the newly created experiment folder.\n",
    "    \"\"\"\n",
    "    Sets up a new experiment by creating a new folder and updating the JSON file with experiment parameters.\n",
    "    \"\"\"\n",
    "    # Ensure the experiments folder exists\n",
    "    if not os.path.exists(experiments_folder):\n",
    "        os.makedirs(experiments_folder)\n",
    "\n",
    "    # Default JSON file to 'experiments.json' in the experiments_folder if not provided\n",
    "    if json_file is None:\n",
    "        json_file = os.path.join(experiments_folder, 'experiments.json')\n",
    "\n",
    "    # Load existing experiments from the JSON file if it exists\n",
    "    if os.path.isfile(json_file):\n",
    "        with open(json_file, mode='r') as file:\n",
    "            experiments = json.load(file)\n",
    "    else:\n",
    "        experiments = []\n",
    "\n",
    "    # Check if the parameters already exist in the JSON file\n",
    "    for experiment in experiments:\n",
    "        if all(experiment['parameters'].get(key) == value for key, value in params.items()):\n",
    "            candidate_folder = os.path.join(experiments_folder, f\"experiment_{experiment['id']}\")\n",
    "            if os.path.exists(candidate_folder):\n",
    "                print(f'Parameters already exist for experiment: {candidate_folder}')\n",
    "                return candidate_folder\n",
    "\n",
    "    # Determine the next experiment number\n",
    "    next_experiment_number = max((experiment['id'] for experiment in experiments), default=0) + 1\n",
    "\n",
    "    # Create a new folder for the next experiment\n",
    "    new_experiment_folder = os.path.join(experiments_folder, f'experiment_{next_experiment_number}')\n",
    "    os.makedirs(new_experiment_folder, exist_ok=True)\n",
    "\n",
    "    # Add the new experiment to the list and save to JSON file\n",
    "    new_experiment = {\n",
    "        'id': next_experiment_number,\n",
    "        'parameters': params\n",
    "    }\n",
    "    experiments.append(new_experiment)\n",
    "    with open(json_file, mode='w') as file:\n",
    "        json.dump(experiments, file, indent=4)\n",
    "\n",
    "    print(f'New experiment setup complete: {new_experiment_folder}')\n",
    "    print(f'Parameters saved to {json_file}.')\n",
    "\n",
    "    return new_experiment_folder"
   ]
  },
  {
   "cell_type": "markdown",
   "metadata": {},
   "source": [
    "## Add metrics"
   ]
  },
  {
   "cell_type": "code",
   "execution_count": 14,
   "metadata": {},
   "outputs": [],
   "source": [
    "#| export\n",
    "def convert_numpy_types(obj):\n",
    "    \"\"\"\n",
    "    Recursively convert numpy types to native Python types for JSON serialization.\n",
    "    \"\"\"\n",
    "    if isinstance(obj, dict):\n",
    "        return {key: convert_numpy_types(value) for key, value in obj.items()}\n",
    "    elif isinstance(obj, list):\n",
    "        return [convert_numpy_types(item) for item in obj]\n",
    "    elif isinstance(obj, np.ndarray):\n",
    "        return obj.tolist()\n",
    "    elif isinstance(obj, (np.float32, np.float64)):\n",
    "        return float(obj)\n",
    "    elif isinstance(obj, (np.int32, np.int64)):\n",
    "        return int(obj)\n",
    "    else:\n",
    "        return obj"
   ]
  },
  {
   "cell_type": "code",
   "execution_count": 15,
   "metadata": {},
   "outputs": [],
   "source": [
    "#| export\n",
    "def add_experiment_metrics(experiments_folder: str,                    # Path to the folder containing all experiments.\n",
    "                           params: Optional[Dict[str, Any]] = None,    # Optional dictionary of parameters identifying the experiment.\n",
    "                           experiment_id: Optional[int] = None,        # Optional ID to identify the experiment.\n",
    "                           metrics: Optional[Dict[str, Any]] = None,   # Optional dictionary of metrics to be added to the experiment.\n",
    "                           json_file: Optional[str] = None             # Optional path to the JSON file tracking experiment parameters and metrics.\n",
    "                          ) -> None:\n",
    "    \"\"\"\n",
    "    Adds metrics to an existing experiment in the JSON file based on the given parameters or ID.\n",
    "    \"\"\"\n",
    "    # Ensure the experiments folder exists\n",
    "    if not os.path.exists(experiments_folder):\n",
    "        raise FileNotFoundError(f\"The experiments folder '{experiments_folder}' does not exist.\")\n",
    "\n",
    "    # Default JSON file to 'experiments.json' in the experiments_folder if not provided\n",
    "    if json_file is None:\n",
    "        json_file = os.path.join(experiments_folder, 'experiments.json')\n",
    "\n",
    "    if not os.path.isfile(json_file):\n",
    "        raise FileNotFoundError(f\"The JSON file '{json_file}' does not exist.\")\n",
    "\n",
    "    if params is None and experiment_id is None:\n",
    "        raise ValueError(\"Either 'params' or 'experiment_id' must be provided to identify the experiment.\")\n",
    "\n",
    "    if metrics is None:\n",
    "        metrics = {}\n",
    "\n",
    "    # Load existing experiments from the JSON file\n",
    "    with open(json_file, mode='r') as file:\n",
    "        try:\n",
    "            experiments = json.load(file)\n",
    "        except json.JSONDecodeError as e:\n",
    "            raise ValueError(f\"Error reading JSON file: {e}\")\n",
    "\n",
    "    found_experiment = False\n",
    "\n",
    "    # Find the matching experiment and update metrics\n",
    "    for experiment in experiments:\n",
    "        if (experiment_id is not None and experiment['id'] == experiment_id) or \\\n",
    "           (params is not None and all(experiment['parameters'].get(key) == value for key, value in params.items())):\n",
    "            # Convert numpy types to native Python types before updating metrics\n",
    "            experiment.update(convert_numpy_types(metrics))\n",
    "            found_experiment = True\n",
    "            break\n",
    "\n",
    "    if not found_experiment:\n",
    "        if experiment_id is not None:\n",
    "            raise ValueError(f\"Experiment with the specified ID {experiment_id} does not exist.\")\n",
    "        else:\n",
    "            raise ValueError(\"Experiment with the specified parameters does not exist.\")\n",
    "\n",
    "    # Save the updated experiments back to the JSON file\n",
    "    with open(json_file, mode='w') as file:\n",
    "        json.dump(experiments, file, indent=4)\n",
    "\n",
    "    if experiment_id is not None:\n",
    "        print(f'Metrics added to experiment with ID {experiment_id} in {json_file}.')\n",
    "    else:\n",
    "        experiment_id = experiment['id']\n",
    "        print(f'Metrics added to experiment with ID {experiment_id} in {json_file}.')\n"
   ]
  },
  {
   "cell_type": "markdown",
   "metadata": {},
   "source": [
    "## Get metrics"
   ]
  },
  {
   "cell_type": "code",
   "execution_count": 16,
   "metadata": {},
   "outputs": [],
   "source": [
    "#| export\n",
    "def get_experiment_parameters(experiments_folder: str,                    # Path to the folder containing all experiments.\n",
    "                              experiment_id: int,                         # ID to identify the experiment.\n",
    "                              json_file: Optional[str] = None             # Optional path to the JSON file tracking experiment parameters and metrics.\n",
    "                             ) -> Dict[str, Any]:\n",
    "    \"\"\"\n",
    "    Retrieves the parameters of an experiment from the JSON file based on the given ID.\n",
    "    \"\"\"\n",
    "    # Ensure the experiments folder exists\n",
    "    if not os.path.exists(experiments_folder):\n",
    "        raise FileNotFoundError(f\"The experiments folder '{experiments_folder}' does not exist.\")\n",
    "\n",
    "    # Default JSON file to 'experiments.json' in the experiments_folder if not provided\n",
    "    if json_file is None:\n",
    "        json_file = os.path.join(experiments_folder, 'experiments.json')\n",
    "\n",
    "    if not os.path.isfile(json_file):\n",
    "        raise FileNotFoundError(f\"The JSON file '{json_file}' does not exist.\")\n",
    "\n",
    "    # Load existing experiments from the JSON file\n",
    "    with open(json_file, mode='r') as file:\n",
    "        experiments = json.load(file)\n",
    "\n",
    "    # Find the matching experiment and return its parameters\n",
    "    for experiment in experiments:\n",
    "        if experiment['id'] == experiment_id:\n",
    "            return experiment.get('parameters', {})\n",
    "\n",
    "    # If the experiment is not found, raise an error\n",
    "    raise ValueError(f\"Experiment with the specified ID {experiment_id} does not exist.\")"
   ]
  },
  {
   "cell_type": "markdown",
   "metadata": {},
   "source": [
    "## Convert notebook"
   ]
  },
  {
   "cell_type": "code",
   "execution_count": 17,
   "metadata": {},
   "outputs": [],
   "source": [
    "#| export\n",
    "def convert_notebook(notebook_path: str,                # The path to the notebook to convert.\n",
    "                     output_folder: str,                # The folder to save the converted file.\n",
    "                     output_filename: str,              # The name of the output file.\n",
    "                     format: str = 'html'               # The format to convert the notebook to ('html' or 'pdf').\n",
    "                    ) -> None:                          # This function does not return a value.\n",
    "    \"\"\"\n",
    "    Convert the specified Jupyter notebook to HTML or PDF.\n",
    "\n",
    "    :param notebook_path: The path to the notebook to convert.\n",
    "    :param output_folder: The folder to save the converted file.\n",
    "    :param output_filename: The name of the output file.\n",
    "    :param format: The format to convert the notebook to ('html' or 'pdf').\n",
    "    \"\"\"\n",
    "    if format == 'pdf' and shutil.which('pandoc') is None:\n",
    "        raise RuntimeError(\"Pandoc is required for PDF conversion but was not found. Please install Pandoc: https://pandoc.org/installing.html\")\n",
    "\n",
    "    # Create the full path for the output file\n",
    "    os.makedirs(output_folder, exist_ok=True)\n",
    "    output_path = os.path.join(output_folder, f\"{output_filename}.{format}\")\n",
    "\n",
    "    # Convert the notebook using nbconvert\n",
    "    command = f\"jupyter nbconvert --to {format} \\\"{notebook_path}\\\" --output \\\"{output_path}\\\"\"\n",
    "    try:\n",
    "        subprocess.run(command, shell=True, check=True, capture_output=True, text=True)\n",
    "        print(f\"Notebook converted to {format.upper()} and saved at {output_path}\")\n",
    "    except subprocess.CalledProcessError as e:\n",
    "        print(f\"An error occurred while converting the notebook to {format.upper()}:\")\n",
    "        print(e.stderr)\n",
    "        raise"
   ]
  },
  {
   "cell_type": "code",
   "execution_count": 18,
   "metadata": {},
   "outputs": [],
   "source": [
    "#| hide\n",
    "import nbdev; nbdev.nbdev_export()"
   ]
  }
 ],
 "metadata": {
  "kernelspec": {
   "display_name": "python3",
   "language": "python",
   "name": "python3"
  },
  "language_info": {
   "codemirror_mode": {
    "name": "ipython",
    "version": 3
   },
   "file_extension": ".py",
   "mimetype": "text/x-python",
   "name": "python",
   "nbconvert_exporter": "python",
   "pygments_lexer": "ipython3",
   "version": "3.8.10"
  }
 },
 "nbformat": 4,
 "nbformat_minor": 2
}
