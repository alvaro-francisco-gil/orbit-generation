{
 "cells": [
  {
   "cell_type": "markdown",
   "metadata": {},
   "source": [
    "# Model Factory\n",
    "\n",
    "> Scripts to get each Generative Model easily"
   ]
  },
  {
   "cell_type": "code",
   "execution_count": 9,
   "metadata": {},
   "outputs": [],
   "source": [
    "#| default_exp model_factory"
   ]
  },
  {
   "cell_type": "code",
   "execution_count": 10,
   "metadata": {},
   "outputs": [],
   "source": [
    "#| export\n",
    "#| hide\n",
    "from orbit_generation.architectures import VAE_CONV5Architecture\n",
    "from orbit_generation.vae import BetaVAE"
   ]
  },
  {
   "cell_type": "code",
   "execution_count": 11,
   "metadata": {},
   "outputs": [
    {
     "name": "stdout",
     "output_type": "stream",
     "text": [
      "Current Working Directory: /orbit-generation/nbs\n"
     ]
    }
   ],
   "source": [
    "import os\n",
    "print(\"Current Working Directory:\", os.getcwd())\n"
   ]
  },
  {
   "cell_type": "code",
   "execution_count": 12,
   "metadata": {},
   "outputs": [],
   "source": [
    "#| export\n",
    "def get_model(params):\n",
    "    model_name = params['model_name']\n",
    "\n",
    "    if model_name == 'vae_conv5':\n",
    "        # Accessing model configuration from the zoo using parameters from the dictionary\n",
    "        architecture = VAE_CONV5Architecture(\n",
    "            seq_len=params['seq_len'], \n",
    "            feat_dim=params['feature_dim'], \n",
    "            latent_dim=params['latent_dim']\n",
    "        )\n",
    "\n",
    "        # Extracting encoder and decoder from the architecture\n",
    "        encoder, decoder = architecture.encoder, architecture.decoder\n",
    "\n",
    "        # Build the VAE\n",
    "        vae = BetaVAE(\n",
    "            encoder=encoder,\n",
    "            decoder=decoder,\n",
    "            beta=params.get('beta', None),\n",
    "            loss_fn=params.get('loss_fn', None),\n",
    "            optimizer_cls=params.get('optimizer_cls', None),\n",
    "            lr=params.get('lr', None)\n",
    "        )\n",
    "\n",
    "        return vae\n",
    "\n",
    "    elif model_name == 'timeGAN':\n",
    "        model = tsgm.models.timeGAN.TimeGAN(\n",
    "            seq_len=params['seq_len'],\n",
    "            module=\"gru\",\n",
    "            hidden_dim=24,\n",
    "            n_features=params['feature_dim'],\n",
    "            n_layers=3,\n",
    "            batch_size=params['batch_size'],\n",
    "            gamma=1.0,\n",
    "        )\n",
    "        # .compile() sets all optimizers to Adam by default\n",
    "        model.compile(optimizer=params['optimizer']['name'], learning_rate=params['optimizer']['learning_rate'])\n",
    "        return model\n",
    "\n",
    "    else:\n",
    "        raise ValueError(f\"Unsupported model_name: {model_name}\")"
   ]
  },
  {
   "cell_type": "code",
   "execution_count": 13,
   "metadata": {},
   "outputs": [],
   "source": [
    "#| hide\n",
    "import nbdev; nbdev.nbdev_export()"
   ]
  }
 ],
 "metadata": {
  "kernelspec": {
   "display_name": "Python 3",
   "language": "python",
   "name": "python3"
  },
  "language_info": {
   "codemirror_mode": {
    "name": "ipython",
    "version": 3
   },
   "file_extension": ".py",
   "mimetype": "text/x-python",
   "name": "python",
   "nbconvert_exporter": "python",
   "pygments_lexer": "ipython3",
   "version": "3.10.12"
  }
 },
 "nbformat": 4,
 "nbformat_minor": 2
}
