{
 "cells": [
  {
   "cell_type": "markdown",
   "metadata": {},
   "source": [
    "# Model Factory\n",
    "\n",
    "> Scripts to get each Generative Model easily"
   ]
  },
  {
   "cell_type": "code",
   "execution_count": 1,
   "metadata": {},
   "outputs": [],
   "source": [
    "#| default_exp model_factory"
   ]
  },
  {
   "cell_type": "code",
   "execution_count": 2,
   "metadata": {},
   "outputs": [
    {
     "ename": "ImportError",
     "evalue": "cannot import name 'get_conv5_vae_components' from 'orbit_generation.architectures' (/usr/local/lib/python3.10/dist-packages/orbit_generation/architectures.py)",
     "output_type": "error",
     "traceback": [
      "\u001b[0;31m---------------------------------------------------------------------------\u001b[0m",
      "\u001b[0;31mImportError\u001b[0m                               Traceback (most recent call last)",
      "Cell \u001b[0;32mIn[2], line 3\u001b[0m\n\u001b[1;32m      1\u001b[0m \u001b[38;5;66;03m#| export\u001b[39;00m\n\u001b[1;32m      2\u001b[0m \u001b[38;5;66;03m#| hide\u001b[39;00m\n\u001b[0;32m----> 3\u001b[0m \u001b[38;5;28;01mfrom\u001b[39;00m \u001b[38;5;21;01morbit_generation\u001b[39;00m\u001b[38;5;21;01m.\u001b[39;00m\u001b[38;5;21;01marchitectures\u001b[39;00m \u001b[38;5;28;01mimport\u001b[39;00m get_conv5_vae_components\n\u001b[1;32m      4\u001b[0m \u001b[38;5;28;01mfrom\u001b[39;00m \u001b[38;5;21;01morbit_generation\u001b[39;00m\u001b[38;5;21;01m.\u001b[39;00m\u001b[38;5;21;01mvae\u001b[39;00m \u001b[38;5;28;01mimport\u001b[39;00m BetaVAE\n",
      "\u001b[0;31mImportError\u001b[0m: cannot import name 'get_conv5_vae_components' from 'orbit_generation.architectures' (/usr/local/lib/python3.10/dist-packages/orbit_generation/architectures.py)"
     ]
    }
   ],
   "source": [
    "#| export\n",
    "#| hide\n",
    "from orbit_generation.architectures import get_conv5_vae_components\n",
    "from orbit_generation.vae import BetaVAE"
   ]
  },
  {
   "cell_type": "code",
   "execution_count": 3,
   "metadata": {},
   "outputs": [],
   "source": [
    "#| export\n",
    "def get_model(params):\n",
    "    model_name = params['model_name']\n",
    "\n",
    "    if model_name == 'vae_conv5':\n",
    "        # Accessing model configuration from the zoo using parameters from the dictionary\n",
    "        encoder, decoder = get_conv5_vae_components(\n",
    "            seq_len=params['seq_len'], \n",
    "            feat_dim=params['feature_dim'], \n",
    "            latent_dim=params['latent_dim']\n",
    "        )\n",
    "\n",
    "        # Build the VAE\n",
    "        vae = BetaVAE(\n",
    "            encoder=encoder,\n",
    "            decoder=decoder,\n",
    "            beta=params.get('beta', None),\n",
    "            loss_fn=params.get('loss_fn', None),\n",
    "            optimizer_cls=params.get('optimizer_cls', None),\n",
    "            lr=params.get('lr', None)\n",
    "        )\n",
    "\n",
    "        return vae\n",
    "\n",
    "    elif model_name == 'timeGAN':\n",
    "        model = tsgm.models.timeGAN.TimeGAN(\n",
    "            seq_len=params['seq_len'],\n",
    "            module=\"gru\",\n",
    "            hidden_dim=24,\n",
    "            n_features=params['feature_dim'],\n",
    "            n_layers=3,\n",
    "            batch_size=params['batch_size'],\n",
    "            gamma=1.0,\n",
    "        )\n",
    "        # .compile() sets all optimizers to Adam by default\n",
    "        model.compile(optimizer=params['optimizer']['name'], learning_rate=params['optimizer']['learning_rate'])\n",
    "        return model\n",
    "\n",
    "    else:\n",
    "        raise ValueError(f\"Unsupported model_name: {model_name}\")"
   ]
  },
  {
   "cell_type": "code",
   "execution_count": 4,
   "metadata": {},
   "outputs": [],
   "source": [
    "#| export\n",
    "def get_model(params):\n",
    "    model_name = params['model_name']\n",
    "\n",
    "    if model_name == 'vae_conv5':\n",
    "        # Accessing model configuration from the zoo using parameters from the dictionary\n",
    "        architecture = VAE_CONV5Architecture(\n",
    "            seq_len=params['seq_len'], \n",
    "            feat_dim=params['feature_dim'], \n",
    "            latent_dim=params['latent_dim']\n",
    "        )\n",
    "\n",
    "        # Extracting encoder and decoder from the architecture\n",
    "        encoder, decoder = architecture.encoder, architecture.decoder\n",
    "\n",
    "        # Build the VAE\n",
    "        vae = BetaVAE(\n",
    "            encoder=encoder,\n",
    "            decoder=decoder,\n",
    "            beta=params.get('beta', None),\n",
    "            loss_fn=params.get('loss_fn', None),\n",
    "            optimizer_cls=params.get('optimizer_cls', None),\n",
    "            lr=params.get('lr', None)\n",
    "        )\n",
    "\n",
    "        return vae\n",
    "\n",
    "    elif model_name == 'timeGAN':\n",
    "        model = tsgm.models.timeGAN.TimeGAN(\n",
    "            seq_len=params['seq_len'],\n",
    "            module=\"gru\",\n",
    "            hidden_dim=24,\n",
    "            n_features=params['feature_dim'],\n",
    "            n_layers=3,\n",
    "            batch_size=params['batch_size'],\n",
    "            gamma=1.0,\n",
    "        )\n",
    "        # .compile() sets all optimizers to Adam by default\n",
    "        model.compile(optimizer=params['optimizer']['name'], learning_rate=params['optimizer']['learning_rate'])\n",
    "        return model\n",
    "\n",
    "    else:\n",
    "        raise ValueError(f\"Unsupported model_name: {model_name}\")"
   ]
  },
  {
   "cell_type": "code",
   "execution_count": 5,
   "metadata": {},
   "outputs": [],
   "source": [
    "#| hide\n",
    "import nbdev; nbdev.nbdev_export()"
   ]
  }
 ],
 "metadata": {
  "kernelspec": {
   "display_name": "Python 3",
   "language": "python",
   "name": "python3"
  },
  "language_info": {
   "codemirror_mode": {
    "name": "ipython",
    "version": 3
   },
   "file_extension": ".py",
   "mimetype": "text/x-python",
   "name": "python",
   "nbconvert_exporter": "python",
   "pygments_lexer": "ipython3",
   "version": "3.10.12"
  }
 },
 "nbformat": 4,
 "nbformat_minor": 2
}
