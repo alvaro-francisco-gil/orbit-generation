{
 "cells": [
  {
   "cell_type": "markdown",
   "metadata": {},
   "source": [
    "# Model Factory\n",
    "\n",
    "> Scripts to get each Generative Model easily"
   ]
  },
  {
   "cell_type": "code",
   "execution_count": null,
   "metadata": {},
   "outputs": [],
   "source": [
    "#| default_exp model_factory"
   ]
  },
  {
   "cell_type": "code",
   "execution_count": null,
   "metadata": {},
   "outputs": [],
   "source": [
    "#| export\n",
    "#| hide\n",
    "from orbit_generation.architectures import get_conv5_vae_components, get_conv5_legit_tsgm_vae_components, get_inception_time_vae_components\n",
    "from orbit_generation.vae import BetaVAE, InceptionTimeVAE\n",
    "\n",
    "import torch"
   ]
  },
  {
   "cell_type": "code",
   "execution_count": null,
   "metadata": {},
   "outputs": [],
   "source": [
    "#| export\n",
    "def get_model(params):\n",
    "    model_name = params['model_name']\n",
    "    model_kwargs = params.get('model_kwargs', {})\n",
    "    \n",
    "    if model_name == 'vae_inception_time':\n",
    "        # Accessing InceptionTime VAE components using parameters from the dictionary\n",
    "        encoder, decoder = get_inception_time_vae_components(\n",
    "            seq_len=params['seq_len'], \n",
    "            feat_dim=params['feature_dim'], \n",
    "            latent_dim=params['latent_dim'],\n",
    "            model_kwargs=model_kwargs\n",
    "        )\n",
    "        # Build the InceptionTimeVAE\n",
    "        vae = InceptionTimeVAE(\n",
    "            encoder=encoder,\n",
    "            decoder=decoder,\n",
    "            beta=model_kwargs.get('beta', 1.0),\n",
    "            loss_fn=model_kwargs.get('loss_fn', None),\n",
    "            optimizer_cls=model_kwargs.get('optimizer_cls', torch.optim.Adam),\n",
    "            lr=model_kwargs.get('lr', params.get('lr'))\n",
    "        )\n",
    "\n",
    "        return vae\n",
    "\n",
    "    # Check if the model name starts with 'vae'\n",
    "    elif model_name.startswith('vae'):\n",
    "        # Handle specific VAE models\n",
    "        if model_name == 'vae_conv5_legit':\n",
    "            # Accessing model configuration from the zoo using parameters from the dictionary\n",
    "            encoder, decoder = get_conv5_legit_tsgm_vae_components(\n",
    "                seq_len=params['seq_len'], \n",
    "                feat_dim=params['feature_dim'], \n",
    "                latent_dim=params['latent_dim'],\n",
    "                dropout_rate=model_kwargs.get('dropout_rate', 0.1)\n",
    "            )\n",
    "\n",
    "        elif model_name == 'vae_conv5_1':\n",
    "            # Accessing model configuration from the zoo using parameters from the dictionary\n",
    "            encoder, decoder = get_conv5_vae_components(\n",
    "                seq_len=params['seq_len'], \n",
    "                feat_dim=params['feature_dim'], \n",
    "                latent_dim=params['latent_dim'],\n",
    "                dropout_rate=model_kwargs.get('dropout_rate', 0.1)\n",
    "            )\n",
    "\n",
    "        else:\n",
    "            raise ValueError(f\"Unknown VAE model: {model_name}\")\n",
    "        \n",
    "        # Build the VAE\n",
    "        vae = BetaVAE(\n",
    "            encoder=encoder,\n",
    "            decoder=decoder,\n",
    "            beta=model_kwargs.get('beta', 1.0),\n",
    "            loss_fn=model_kwargs.get('loss_fn', None),\n",
    "            optimizer_cls=model_kwargs.get('optimizer_cls', torch.optim.Adam),\n",
    "            lr=model_kwargs.get('lr', params.get('lr'))\n",
    "        )\n",
    "        \n",
    "        return vae\n",
    "    \n",
    "    else:\n",
    "        raise ValueError(f\"Model name '{model_name}' is not recognized or not supported yet.\")"
   ]
  },
  {
   "cell_type": "code",
   "execution_count": null,
   "metadata": {},
   "outputs": [],
   "source": [
    "#| hide\n",
    "import nbdev; nbdev.nbdev_export()"
   ]
  }
 ],
 "metadata": {
  "kernelspec": {
   "display_name": "Python (PyTorch)",
   "language": "python",
   "name": "pytorch"
  },
  "language_info": {
   "codemirror_mode": {
    "name": "ipython",
    "version": 3
   },
   "file_extension": ".py",
   "mimetype": "text/x-python",
   "name": "python",
   "nbconvert_exporter": "python",
   "pygments_lexer": "ipython3",
   "version": "3.10.12"
  }
 },
 "nbformat": 4,
 "nbformat_minor": 2
}
