{
 "cells": [
  {
   "cell_type": "markdown",
   "metadata": {},
   "source": [
    "# Model Factory\n",
    "\n",
    "> Scripts to get each Generative Model easily"
   ]
  },
  {
   "cell_type": "code",
   "execution_count": null,
   "metadata": {},
   "outputs": [],
   "source": [
    "#| default_exp model_factory"
   ]
  },
  {
   "cell_type": "code",
   "execution_count": null,
   "metadata": {},
   "outputs": [],
   "source": [
    "#| export\n",
    "#| hide\n",
    "from orbit_generation.architectures import get_conv5_vae_components, get_conv5_legit_tsgm_vae_components\n",
    "from orbit_generation.vae import BetaVAE\n",
    "\n",
    "import torch"
   ]
  },
  {
   "cell_type": "code",
   "execution_count": null,
   "metadata": {},
   "outputs": [],
   "source": [
    "#| export\n",
    "def get_model(params):\n",
    "    model_name = params['model_name']\n",
    "\n",
    "    # Check if the model name starts with 'vae'\n",
    "    if model_name.startswith('vae'):\n",
    "        # Handle specific VAE models\n",
    "        if model_name == 'vae_conv5_legit':\n",
    "            # Accessing model configuration from the zoo using parameters from the dictionary\n",
    "            encoder, decoder = get_conv5_legit_tsgm_vae_components(\n",
    "                seq_len=params['seq_len'], \n",
    "                feat_dim=params['feature_dim'], \n",
    "                latent_dim=params['latent_dim'],\n",
    "                dropout_rate=params.get('dropout_rate', 0.1)\n",
    "            )\n",
    "\n",
    "        elif model_name == 'vae_conv5_1':\n",
    "            # Accessing model configuration from the zoo using parameters from the dictionary\n",
    "            encoder, decoder = get_conv5_vae_components(\n",
    "                seq_len=params['seq_len'], \n",
    "                feat_dim=params['feature_dim'], \n",
    "                latent_dim=params['latent_dim'],\n",
    "                dropout_rate=params.get('dropout_rate', 0.1)\n",
    "            )\n",
    "\n",
    "        else:\n",
    "            raise ValueError(f\"Unknown VAE model: {model_name}\")\n",
    "        \n",
    "        # Build the VAE\n",
    "        vae = BetaVAE(\n",
    "            encoder=encoder,\n",
    "            decoder=decoder,\n",
    "            beta=params.get('beta', 1.0),\n",
    "            loss_fn=params.get('loss_fn', None),\n",
    "            optimizer_cls=params.get('optimizer_cls', torch.optim.Adam),\n",
    "            lr=params.get('lr', None)\n",
    "        )\n",
    "        \n",
    "        return vae\n",
    "    \n",
    "    else:\n",
    "        raise ValueError(f\"Model name '{model_name}' is not recognized or not supported yet.\")"
   ]
  },
  {
   "cell_type": "code",
   "execution_count": null,
   "metadata": {},
   "outputs": [],
   "source": [
    "#| hide\n",
    "import nbdev; nbdev.nbdev_export()"
   ]
  }
 ],
 "metadata": {
  "kernelspec": {
   "display_name": "python3",
   "language": "python",
   "name": "python3"
  }
 },
 "nbformat": 4,
 "nbformat_minor": 2
}
