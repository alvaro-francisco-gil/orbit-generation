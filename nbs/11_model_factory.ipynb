{
 "cells": [
  {
   "cell_type": "markdown",
   "metadata": {},
   "source": [
    "# Model Factory\n",
    "\n",
    "> Scripts to get each Generative Model easily"
   ]
  },
  {
   "cell_type": "code",
   "execution_count": 1,
   "metadata": {},
   "outputs": [],
   "source": [
    "#| default_exp model_factory"
   ]
  },
  {
   "cell_type": "code",
   "execution_count": null,
   "metadata": {},
   "outputs": [],
   "source": [
    "#| export\n",
    "#| hide\n",
    "from orbit_generation.architectures import get_conv5_vae_components, get_conv5_legit_tsgm_vae_components, get_inception_time_vae_components\n",
    "from orbit_generation.vae import BetaVAE\n",
    "\n",
    "import torch"
   ]
  },
  {
   "cell_type": "code",
   "execution_count": null,
   "metadata": {},
   "outputs": [],
   "source": [
    "#| export\n",
    "def get_model(params):\n",
    "    model_name = params['model_name']\n",
    "    model_kwargs = params.get('model_kwargs', {})\n",
    "    \n",
    "    if 'vae' in model_name.lower():\n",
    "        if model_name == 'inception_time_vae' or model_name == 'inception_time_wp_vae':\n",
    "            # Determine whether to use WPInceptionTimeVAEEncoder (without pooling)\n",
    "            without_pooling = (model_name == 'inception_time_wp_vae')\n",
    "            \n",
    "            # Passing model_kwargs directly to the function\n",
    "            encoder, decoder = get_inception_time_vae_components(\n",
    "                seq_len=params['seq_len'], \n",
    "                feat_dim=params['feature_dim'], \n",
    "                latent_dim=params['latent_dim'],\n",
    "                without_pooling=without_pooling,\n",
    "                **model_kwargs\n",
    "            )\n",
    "        \n",
    "        elif model_name == 'vae_conv5_legit':\n",
    "            # Passing model_kwargs directly to the function\n",
    "            encoder, decoder = get_conv5_legit_tsgm_vae_components(\n",
    "                seq_len=params['seq_len'], \n",
    "                feat_dim=params['feature_dim'], \n",
    "                latent_dim=params['latent_dim'],\n",
    "                **model_kwargs\n",
    "            )\n",
    "\n",
    "        elif model_name == 'vae_conv5_1':\n",
    "            # Passing model_kwargs directly to the function\n",
    "            encoder, decoder = get_conv5_vae_components(\n",
    "                seq_len=params['seq_len'], \n",
    "                feat_dim=params['feature_dim'], \n",
    "                latent_dim=params['latent_dim'],\n",
    "                **model_kwargs\n",
    "            )\n",
    "\n",
    "        else:\n",
    "            raise ValueError(f\"Unknown VAE model: {model_name}\")\n",
    "        \n",
    "        # Build the VAE using BetaVAE for all VAE types\n",
    "        vae = BetaVAE(\n",
    "            encoder=encoder,\n",
    "            decoder=decoder,\n",
    "            beta=model_kwargs.get('beta', 1.0),\n",
    "            loss_fn=model_kwargs.get('loss_fn', None),\n",
    "            optimizer_cls=model_kwargs.get('optimizer_cls', torch.optim.Adam),\n",
    "            lr=model_kwargs.get('lr', params.get('lr'))\n",
    "        )\n",
    "        \n",
    "        return vae\n",
    "    \n",
    "    else:\n",
    "        raise ValueError(f\"Model name '{model_name}' is not recognized or not supported yet.\")"
   ]
  },
  {
   "cell_type": "code",
   "execution_count": 4,
   "metadata": {},
   "outputs": [],
   "source": [
    "#| hide\n",
    "import nbdev; nbdev.nbdev_export()"
   ]
  }
 ],
 "metadata": {
  "kernelspec": {
   "display_name": "Python (PyTorch)",
   "language": "python",
   "name": "pytorch"
  },
  "language_info": {
   "codemirror_mode": {
    "name": "ipython",
    "version": 3
   },
   "file_extension": ".py",
   "mimetype": "text/x-python",
   "name": "python",
   "nbconvert_exporter": "python",
   "pygments_lexer": "ipython3",
   "version": "3.10.12"
  }
 },
 "nbformat": 4,
 "nbformat_minor": 2
}
