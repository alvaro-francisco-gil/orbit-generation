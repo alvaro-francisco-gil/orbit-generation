{
 "cells": [
  {
   "cell_type": "markdown",
   "metadata": {},
   "source": [
    "# Architectures\n",
    "\n",
    "> Scripts to get architectures for the models"
   ]
  },
  {
   "cell_type": "code",
   "execution_count": 29,
   "metadata": {},
   "outputs": [],
   "source": [
    "#| default_exp architectures"
   ]
  },
  {
   "cell_type": "code",
   "execution_count": 30,
   "metadata": {},
   "outputs": [],
   "source": [
    "#| export\n",
    "#| hide\n",
    "\n",
    "import torch\n",
    "import torch.nn as nn\n",
    "from abc import ABC, abstractmethod"
   ]
  },
  {
   "cell_type": "markdown",
   "metadata": {},
   "source": [
    "## Sampling"
   ]
  },
  {
   "cell_type": "code",
   "execution_count": 31,
   "metadata": {},
   "outputs": [],
   "source": [
    "#| export\n",
    "class Sampling(nn.Module):\n",
    "    \"\"\"\n",
    "    PyTorch module to perform the reparameterization trick for VAEs.\n",
    "    \"\"\"\n",
    "    def forward(self, z_mean, z_log_var):\n",
    "        std = torch.exp(0.5 * z_log_var)\n",
    "        eps = torch.randn_like(std)\n",
    "        return z_mean + eps * std"
   ]
  },
  {
   "cell_type": "markdown",
   "metadata": {},
   "source": [
    "## Conv5 Architecture"
   ]
  },
  {
   "cell_type": "code",
   "execution_count": 32,
   "metadata": {},
   "outputs": [],
   "source": [
    "#| export\n",
    "class Conv5Encoder(nn.Module):\n",
    "    def __init__(self, seq_len, feat_dim, latent_dim, dropout_rate):\n",
    "        super().__init__()\n",
    "        self.seq_len = seq_len\n",
    "        self.feat_dim = feat_dim\n",
    "        self.latent_dim = latent_dim\n",
    "        self.dropout_rate = dropout_rate\n",
    "        \n",
    "        # Group 1: Transpose Convolution Layers to reshape and refine the spatial structure\n",
    "        self.convo_layers = nn.Sequential(\n",
    "            nn.Conv1d(in_channels=self.feat_dim, out_channels=64, kernel_size=3, stride=1, padding='same'),\n",
    "            nn.ReLU(),\n",
    "            nn.Dropout(p=self.dropout_rate),\n",
    "            nn.Conv1d(in_channels=64, out_channels=64, kernel_size=5, stride=1, padding='same'),\n",
    "            nn.ReLU(),\n",
    "            nn.Dropout(p=self.dropout_rate),\n",
    "            nn.Conv1d(in_channels=64, out_channels=64, kernel_size=7, stride=1, padding='same'),\n",
    "            nn.ReLU(),\n",
    "            nn.Dropout(p=self.dropout_rate),\n",
    "            nn.Conv1d(in_channels=64, out_channels=64, kernel_size=9, stride=1, padding='same'),\n",
    "            nn.ReLU(),\n",
    "            nn.Dropout(p=self.dropout_rate),\n",
    "            nn.Conv1d(in_channels=64, out_channels=64, kernel_size=13, stride=1, padding='same'),\n",
    "            nn.ReLU(),\n",
    "            nn.Dropout(p=self.dropout_rate),\n",
    "            nn.Flatten()\n",
    "        )\n",
    "        # Group 2: Dense Layers to downscale the feature space to a lower latent dimensions\n",
    "        self.dense_layers = nn.Sequential(\n",
    "            nn.Linear(in_features=64 * self.seq_len, out_features=512),\n",
    "            nn.ReLU(),\n",
    "            nn.Linear(in_features=512, out_features=64),\n",
    "            nn.ReLU(),\n",
    "            nn.Linear(in_features=64, out_features=self.latent_dim * 2)  # Output z_mean and z_log_var\n",
    "        )\n",
    "\n",
    "        self.sampling = Sampling()\n",
    "\n",
    "    def forward(self, x):\n",
    "        x = self.convo_layers(x)\n",
    "        x = self.dense_layers(x)\n",
    "        z_mean = x[:, :self.latent_dim]\n",
    "        z_log_var = x[:, self.latent_dim:]\n",
    "        z = self.sampling(z_mean, z_log_var)\n",
    "        return z, z_mean, z_log_var\n",
    "    \n"
   ]
  },
  {
   "cell_type": "code",
   "execution_count": 33,
   "metadata": {},
   "outputs": [],
   "source": [
    "#| export\n",
    "class Conv5Decoder(nn.Module):\n",
    "    def __init__(self, seq_len, feat_dim, latent_dim, dropout_rate):\n",
    "        super().__init__()\n",
    "        self.seq_len = seq_len\n",
    "        self.feat_dim = feat_dim\n",
    "        self.latent_dim = latent_dim\n",
    "        self.dropout_rate = dropout_rate\n",
    "        \n",
    "        # Group 1: Dense Layers to upscale the latent dimensions to a higher feature space\n",
    "        self.dense_layers = nn.Sequential(\n",
    "            nn.Linear(in_features=self.latent_dim, out_features=64),\n",
    "            nn.ReLU(),\n",
    "            nn.Linear(in_features=64, out_features=512),\n",
    "            nn.ReLU(),\n",
    "            nn.Linear(in_features=512, out_features=64 * self.seq_len),\n",
    "            nn.ReLU(),\n",
    "            nn.Unflatten(dim=1, unflattened_size=(64, self.seq_len))\n",
    "        )\n",
    "\n",
    "        # Group 2: Transpose Convolution Layers to reshape and refine the spatial structure\n",
    "        self.conv_transpose_layers = nn.Sequential(\n",
    "            nn.ConvTranspose1d(in_channels=64, out_channels=64, kernel_size=13, stride=1, padding=6),\n",
    "            nn.ReLU(),\n",
    "            nn.Dropout(p=self.dropout_rate),\n",
    "            nn.ConvTranspose1d(in_channels=64, out_channels=64, kernel_size=9, stride=1, padding=4),\n",
    "            nn.ReLU(),\n",
    "            nn.Dropout(p=self.dropout_rate),\n",
    "            nn.ConvTranspose1d(in_channels=64, out_channels=64, kernel_size=7, stride=1, padding=3),\n",
    "            nn.ReLU(),\n",
    "            nn.Dropout(p=self.dropout_rate),\n",
    "            nn.ConvTranspose1d(in_channels=64, out_channels=64, kernel_size=5, stride=1, padding=2),\n",
    "            nn.ReLU(),\n",
    "            nn.Dropout(p=self.dropout_rate),\n",
    "            nn.ConvTranspose1d(in_channels=64, out_channels=self.feat_dim, kernel_size=3, stride=1, padding=1),\n",
    "            nn.Sigmoid()\n",
    "        )\n",
    "\n",
    "    def forward(self, z):\n",
    "        z = self.dense_layers(z)\n",
    "        z = self.conv_transpose_layers(z)\n",
    "        return z"
   ]
  },
  {
   "cell_type": "code",
   "execution_count": 34,
   "metadata": {},
   "outputs": [],
   "source": [
    "#| export\n",
    "def get_conv5_vae_components(seq_len, feat_dim, latent_dim, dropout_rate=0.2):\n",
    "    \"\"\"\n",
    "    Returns an instance of Conv5Encoder and Conv5Decoder based on the given parameters.\n",
    "    \n",
    "    Args:\n",
    "        seq_len (int): Length of input sequence.\n",
    "        feat_dim (int): Dimensionality of input features.\n",
    "        latent_dim (int): Dimensionality of the latent space.\n",
    "        dropout_rate (float): Dropout rate to use in the model.\n",
    "    \n",
    "    Returns:\n",
    "        encoder (Conv5Encoder): The encoder part of the VAE.\n",
    "        decoder (Conv5Decoder): The decoder part of the VAE.\n",
    "    \"\"\"\n",
    "    encoder = Conv5Encoder(seq_len, feat_dim, latent_dim, dropout_rate)\n",
    "    decoder = Conv5Decoder(seq_len, feat_dim, latent_dim, dropout_rate)\n",
    "    \n",
    "    return encoder, decoder"
   ]
  },
  {
   "cell_type": "code",
   "execution_count": 35,
   "metadata": {},
   "outputs": [],
   "source": [
    "#| hide\n",
    "import nbdev; nbdev.nbdev_export()"
   ]
  }
 ],
 "metadata": {
  "kernelspec": {
   "display_name": "python3",
   "language": "python",
   "name": "python3"
  },
  "language_info": {
   "codemirror_mode": {
    "name": "ipython",
    "version": 3
   },
   "file_extension": ".py",
   "mimetype": "text/x-python",
   "name": "python",
   "nbconvert_exporter": "python",
   "pygments_lexer": "ipython3",
   "version": "3.10.12"
  }
 },
 "nbformat": 4,
 "nbformat_minor": 2
}
