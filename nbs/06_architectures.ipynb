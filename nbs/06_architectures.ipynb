{
 "cells": [
  {
   "cell_type": "markdown",
   "metadata": {},
   "source": [
    "# Architectures\n",
    "\n",
    "> Scripts to get architectures for the models"
   ]
  },
  {
   "cell_type": "code",
   "execution_count": 1,
   "metadata": {},
   "outputs": [],
   "source": [
    "#| default_exp architectures"
   ]
  },
  {
   "cell_type": "code",
   "execution_count": 2,
   "metadata": {},
   "outputs": [],
   "source": [
    "#| export\n",
    "#| hide\n",
    "\n",
    "import torch\n",
    "import torch.nn as nn\n",
    "from abc import ABC, abstractmethod\n",
    "from torch import Tensor"
   ]
  },
  {
   "cell_type": "markdown",
   "metadata": {},
   "source": [
    "## Sampling"
   ]
  },
  {
   "cell_type": "code",
   "execution_count": 3,
   "metadata": {},
   "outputs": [],
   "source": [
    "#| export\n",
    "class Sampling(nn.Module):\n",
    "    def forward(self, z_mean: Tensor, z_log_var: Tensor) -> Tensor:\n",
    "        std = torch.exp(0.5 * z_log_var)\n",
    "        eps = torch.randn_like(std)\n",
    "        return z_mean + eps * std"
   ]
  },
  {
   "cell_type": "markdown",
   "metadata": {},
   "source": [
    "## Conv5 Architecture"
   ]
  },
  {
   "cell_type": "markdown",
   "metadata": {},
   "source": [
    "### Kernel Sizes: 5, 7 9, 13"
   ]
  },
  {
   "cell_type": "code",
   "execution_count": 4,
   "metadata": {},
   "outputs": [],
   "source": [
    "#| export\n",
    "class Conv5Encoder(nn.Module):\n",
    "    def __init__(self, seq_len: int, feat_dim: int, latent_dim: int, dropout_rate: float):\n",
    "        super().__init__()\n",
    "        self.seq_len = seq_len\n",
    "        self.feat_dim = feat_dim\n",
    "        self.latent_dim = latent_dim\n",
    "        self.dropout_rate = dropout_rate\n",
    "        \n",
    "        self.convo_layers = nn.Sequential(\n",
    "            nn.Conv1d(in_channels=self.feat_dim, out_channels=64, kernel_size=3, stride=1, padding='same'),\n",
    "            nn.ReLU(),\n",
    "            nn.Dropout(p=self.dropout_rate),\n",
    "            nn.Conv1d(in_channels=64, out_channels=64, kernel_size=5, stride=1, padding='same'),\n",
    "            nn.ReLU(),\n",
    "            nn.Dropout(p=self.dropout_rate),\n",
    "            nn.Conv1d(in_channels=64, out_channels=64, kernel_size=7, stride=1, padding='same'),\n",
    "            nn.ReLU(),\n",
    "            nn.Dropout(p=self.dropout_rate),\n",
    "            nn.Conv1d(in_channels=64, out_channels=64, kernel_size=9, stride=1, padding='same'),\n",
    "            nn.ReLU(),\n",
    "            nn.Dropout(p=self.dropout_rate),\n",
    "            nn.Conv1d(in_channels=64, out_channels=64, kernel_size=13, stride=1, padding='same'),\n",
    "            nn.ReLU(),\n",
    "            nn.Dropout(p=self.dropout_rate),\n",
    "            nn.Flatten()\n",
    "        )\n",
    "        \n",
    "        self.dense_layers = nn.Sequential(\n",
    "            nn.Linear(in_features=64 * self.seq_len, out_features=512),\n",
    "            nn.ReLU(),\n",
    "            nn.Linear(in_features=512, out_features=64),\n",
    "            nn.ReLU(),\n",
    "            nn.Linear(in_features=64, out_features=self.latent_dim * 2)\n",
    "        )\n",
    "\n",
    "    def forward(self, x: Tensor) -> tuple[Tensor, Tensor]:\n",
    "        x = self.convo_layers(x)\n",
    "        x = self.dense_layers(x)\n",
    "        z_mean, z_log_var = torch.split(x, self.latent_dim, dim=1)\n",
    "        return z_mean, z_log_var"
   ]
  },
  {
   "cell_type": "code",
   "execution_count": 5,
   "metadata": {},
   "outputs": [],
   "source": [
    "#| export\n",
    "class Conv5Decoder(nn.Module):\n",
    "    def __init__(self, seq_len: int, feat_dim: int, latent_dim: int, dropout_rate: float):\n",
    "        super().__init__()\n",
    "        self.seq_len = seq_len\n",
    "        self.feat_dim = feat_dim\n",
    "        self.latent_dim = latent_dim\n",
    "        self.dropout_rate = dropout_rate\n",
    "        \n",
    "        self.dense_layers = nn.Sequential(\n",
    "            nn.Linear(in_features=self.latent_dim, out_features=64),\n",
    "            nn.ReLU(),\n",
    "            nn.Linear(in_features=64, out_features=512),\n",
    "            nn.ReLU(),\n",
    "            nn.Linear(in_features=512, out_features=64 * self.seq_len),\n",
    "            nn.ReLU(),\n",
    "            nn.Unflatten(dim=1, unflattened_size=(64, self.seq_len))\n",
    "        )\n",
    "\n",
    "        self.conv_transpose_layers = nn.Sequential(\n",
    "            nn.ConvTranspose1d(in_channels=64, out_channels=64, kernel_size=13, stride=1, padding=6),\n",
    "            nn.ReLU(),\n",
    "            nn.Dropout(p=self.dropout_rate),\n",
    "            nn.ConvTranspose1d(in_channels=64, out_channels=64, kernel_size=9, stride=1, padding=4),\n",
    "            nn.ReLU(),\n",
    "            nn.Dropout(p=self.dropout_rate),\n",
    "            nn.ConvTranspose1d(in_channels=64, out_channels=64, kernel_size=7, stride=1, padding=3),\n",
    "            nn.ReLU(),\n",
    "            nn.Dropout(p=self.dropout_rate),\n",
    "            nn.ConvTranspose1d(in_channels=64, out_channels=64, kernel_size=5, stride=1, padding=2),\n",
    "            nn.ReLU(),\n",
    "            nn.Dropout(p=self.dropout_rate),\n",
    "            nn.ConvTranspose1d(in_channels=64, out_channels=self.feat_dim, kernel_size=3, stride=1, padding=1),\n",
    "            nn.Sigmoid()\n",
    "        )\n",
    "\n",
    "    def forward(self, z: Tensor) -> Tensor:\n",
    "        z = self.dense_layers(z)\n",
    "        z = self.conv_transpose_layers(z)\n",
    "        return z"
   ]
  },
  {
   "cell_type": "code",
   "execution_count": 6,
   "metadata": {},
   "outputs": [],
   "source": [
    "#| export\n",
    "def get_conv5_vae_components(seq_len, feat_dim, latent_dim, dropout_rate=0.2):\n",
    "    \"\"\"\n",
    "    Returns an instance of Conv5Encoder and Conv5Decoder based on the given parameters.\n",
    "    \n",
    "    Args:\n",
    "        seq_len (int): Length of input sequence.\n",
    "        feat_dim (int): Dimensionality of input features.\n",
    "        latent_dim (int): Dimensionality of the latent space.\n",
    "        dropout_rate (float): Dropout rate to use in the model.\n",
    "    \n",
    "    Returns:\n",
    "        encoder (Conv5Encoder): The encoder part of the VAE.\n",
    "        decoder (Conv5Decoder): The decoder part of the VAE.\n",
    "    \"\"\"\n",
    "    encoder = Conv5Encoder(seq_len, feat_dim, latent_dim, dropout_rate)\n",
    "    decoder = Conv5Decoder(seq_len, feat_dim, latent_dim, dropout_rate)\n",
    "    \n",
    "    return encoder, decoder"
   ]
  },
  {
   "cell_type": "markdown",
   "metadata": {},
   "source": [
    "### Legit Tsgm"
   ]
  },
  {
   "cell_type": "code",
   "execution_count": 7,
   "metadata": {},
   "outputs": [],
   "source": [
    "#| export\n",
    "class Conv5EncoderLegitTsgm(nn.Module):\n",
    "    def __init__(self, seq_len: int, feat_dim: int, latent_dim: int, dropout_rate: float = 0.2):\n",
    "        super().__init__()\n",
    "        self.seq_len = seq_len\n",
    "        self.feat_dim = feat_dim\n",
    "        self.latent_dim = latent_dim\n",
    "        \n",
    "        self.convo_layers = nn.Sequential(\n",
    "            nn.Conv1d(in_channels=self.feat_dim, out_channels=64, kernel_size=10, stride=1, padding='same'),\n",
    "            nn.ReLU(),\n",
    "            nn.Dropout(p=dropout_rate),\n",
    "            nn.Conv1d(in_channels=64, out_channels=64, kernel_size=2, stride=1, padding='same'),\n",
    "            nn.ReLU(),\n",
    "            nn.Dropout(p=dropout_rate),\n",
    "            nn.Conv1d(in_channels=64, out_channels=64, kernel_size=2, stride=1, padding='same'),\n",
    "            nn.ReLU(),\n",
    "            nn.Dropout(p=dropout_rate),\n",
    "            nn.Conv1d(in_channels=64, out_channels=64, kernel_size=2, stride=1, padding='same'),\n",
    "            nn.ReLU(),\n",
    "            nn.Dropout(p=dropout_rate),\n",
    "            nn.Conv1d(in_channels=64, out_channels=64, kernel_size=4, stride=1, padding='same'),\n",
    "            nn.ReLU(),\n",
    "            nn.Dropout(p=dropout_rate),\n",
    "            nn.Flatten()\n",
    "        )\n",
    "        \n",
    "        self.dense_layers = nn.Sequential(\n",
    "            nn.Linear(in_features=64 * self.seq_len, out_features=512),\n",
    "            nn.ReLU(),\n",
    "            nn.Linear(in_features=512, out_features=64),\n",
    "            nn.ReLU(),\n",
    "            nn.Linear(in_features=64, out_features=self.latent_dim * 2)  # Output z_mean and z_log_var\n",
    "        )\n",
    "\n",
    "    def forward(self, x: Tensor) -> tuple[Tensor, Tensor]:\n",
    "        x = self.convo_layers(x)\n",
    "        x = self.dense_layers(x)\n",
    "        z_mean, z_log_var = torch.split(x, self.latent_dim, dim=1)\n",
    "        return z_mean, z_log_var"
   ]
  },
  {
   "cell_type": "code",
   "execution_count": 8,
   "metadata": {},
   "outputs": [],
   "source": [
    "#| export\n",
    "class Conv5DecoderLegitTsgm(nn.Module):\n",
    "    def __init__(self, seq_len: int, feat_dim: int, latent_dim: int, dropout_rate: float = 0.2):\n",
    "        super().__init__()\n",
    "        self.seq_len = seq_len\n",
    "        self.feat_dim = feat_dim\n",
    "        self.latent_dim = latent_dim\n",
    "\n",
    "        # Dense layers to upscale the latent dimensions\n",
    "        self.dense_layers = nn.Sequential(\n",
    "            nn.Linear(in_features=self.latent_dim, out_features=64),\n",
    "            nn.ReLU(),\n",
    "            nn.Linear(in_features=64, out_features=512),\n",
    "            nn.ReLU(),\n",
    "            nn.Linear(in_features=512, out_features=64 * seq_len),  # Adjust output size based on sequence length\n",
    "            nn.ReLU(),\n",
    "            nn.Unflatten(dim=1, unflattened_size=(64, seq_len))\n",
    "        )\n",
    "\n",
    "        # Transpose Convolutional layers with calculated padding for \"same\" effect\n",
    "        self.conv_transpose_layers = nn.Sequential(\n",
    "            nn.ConvTranspose1d(in_channels=64, out_channels=64, kernel_size=2, stride=1, padding=1),\n",
    "            nn.ReLU(),\n",
    "            nn.Dropout(p=dropout_rate),\n",
    "            nn.ConvTranspose1d(in_channels=64, out_channels=64, kernel_size=2, stride=1, padding=1),\n",
    "            nn.ReLU(),\n",
    "            nn.Dropout(p=dropout_rate),\n",
    "            nn.ConvTranspose1d(in_channels=64, out_channels=64, kernel_size=2, stride=1, padding=1),\n",
    "            nn.ReLU(),\n",
    "            nn.Dropout(p=dropout_rate),\n",
    "            nn.ConvTranspose1d(in_channels=64, out_channels=self.feat_dim,\n",
    "                               kernel_size=(10 if seq_len > 10 else seq_len), stride=1,\n",
    "                               padding=(5 if seq_len > 10 else seq_len // 2)),\n",
    "                               # Adjust padding based on actual sequence length\n",
    "                               # This ensures the output shape matches the input shape\n",
    "                               # If seq_len <= 10 use same padding as input size\n",
    "                               # Adjust these parameters based on actual needs and testing\n",
    "                               activation=\"sigmoid\")\n",
    "\n",
    "    def forward(self, z: Tensor) -> Tensor:\n",
    "        z = self.dense_layers(z)\n",
    "        z = self.conv_transpose_layers(z)\n",
    "        return z"
   ]
  },
  {
   "cell_type": "code",
   "execution_count": 9,
   "metadata": {},
   "outputs": [],
   "source": [
    "#| export\n",
    "def get_conv5_legit_tsgm_vae_components(seq_len, feat_dim, latent_dim, dropout_rate=0.2):\n",
    "    \"\"\"\n",
    "    Returns an instance of Conv5Encoder and Conv5Decoder based on the given parameters.\n",
    "    \n",
    "    Args:\n",
    "        seq_len (int): Length of input sequence.\n",
    "        feat_dim (int): Dimensionality of input features.\n",
    "        latent_dim (int): Dimensionality of the latent space.\n",
    "        dropout_rate (float): Dropout rate to use in the model.\n",
    "    \n",
    "    Returns:\n",
    "        encoder (Conv5Encoder): The encoder part of the VAE.\n",
    "        decoder (Conv5Decoder): The decoder part of the VAE.\n",
    "    \"\"\"\n",
    "    encoder = Conv5EncoderLegitTsgm(seq_len, feat_dim, latent_dim, dropout_rate)\n",
    "    decoder = Conv5DecoderLegitTsgm(seq_len, feat_dim, latent_dim, dropout_rate)\n",
    "    \n",
    "    return encoder, decoder"
   ]
  },
  {
   "cell_type": "code",
   "execution_count": 10,
   "metadata": {},
   "outputs": [],
   "source": [
    "#| hide\n",
    "import nbdev; nbdev.nbdev_export()"
   ]
  }
 ],
 "metadata": {
  "kernelspec": {
   "display_name": "python3",
   "language": "python",
   "name": "python3"
  },
  "language_info": {
   "codemirror_mode": {
    "name": "ipython",
    "version": 3
   },
   "file_extension": ".py",
   "mimetype": "text/x-python",
   "name": "python",
   "nbconvert_exporter": "python",
   "pygments_lexer": "ipython3",
   "version": "3.10.12"
  }
 },
 "nbformat": 4,
 "nbformat_minor": 2
}
