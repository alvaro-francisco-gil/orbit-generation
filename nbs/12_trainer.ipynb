{
 "cells": [
  {
   "cell_type": "markdown",
   "metadata": {},
   "source": [
    "# Trainer\n",
    "\n",
    "> Scripts to train the models"
   ]
  },
  {
   "cell_type": "code",
   "execution_count": 1,
   "metadata": {},
   "outputs": [],
   "source": [
    "#| default_exp trainer"
   ]
  },
  {
   "cell_type": "code",
   "execution_count": 2,
   "metadata": {},
   "outputs": [],
   "source": [
    "#| export\n",
    "#| hide\n",
    "import torch\n",
    "from torch.utils.data import DataLoader, TensorDataset\n",
    "from pytorch_lightning import Trainer\n",
    "from sklearn.model_selection import train_test_split"
   ]
  },
  {
   "cell_type": "code",
   "execution_count": 3,
   "metadata": {},
   "outputs": [],
   "source": [
    "#| export\n",
    "def train_model(model, data, labels, config):\n",
    "    \"\"\"\n",
    "    Trains the given model using the provided data and configuration.\n",
    "\n",
    "    Parameters:\n",
    "    -----------\n",
    "    model : pl.LightningModule\n",
    "        The model to be trained.\n",
    "    \n",
    "    data : torch.Tensor or np.array\n",
    "        The input data (features) to train the model.\n",
    "    \n",
    "    labels : torch.Tensor or np.array\n",
    "        The corresponding labels for the input data.\n",
    "    \n",
    "    config : dict\n",
    "        Configuration dictionary containing training parameters like batch_size, epochs, val_split, etc.\n",
    "    \"\"\"\n",
    "    \n",
    "    # Split the data and create dataloaders\n",
    "    if config['val_split'] > 0:\n",
    "        X_train, X_val, y_train, y_val = train_test_split(\n",
    "            data, labels,\n",
    "            test_size=config['val_split'],\n",
    "            random_state=42\n",
    "        )\n",
    "        train_dataset = TensorDataset(torch.tensor(X_train), torch.tensor(y_train))\n",
    "        val_dataset = TensorDataset(torch.tensor(X_val), torch.tensor(y_val))\n",
    "        val_dataloader = DataLoader(val_dataset, batch_size=config['batch_size'])\n",
    "    else:\n",
    "        train_dataset = TensorDataset(torch.tensor(data), torch.tensor(labels))\n",
    "        val_dataloader = None\n",
    "\n",
    "    train_dataloader = DataLoader(train_dataset, batch_size=config['batch_size'], shuffle=True)\n",
    "\n",
    "    # Initialize PyTorch Lightning Trainer\n",
    "    trainer = Trainer(\n",
    "        max_epochs=config['epochs'],\n",
    "        log_every_n_steps=10,\n",
    "        gpus=1 if torch.cuda.is_available() else 0\n",
    "    )\n",
    "\n",
    "    # Train the model\n",
    "    if val_dataloader:\n",
    "        trainer.fit(model, train_dataloader, val_dataloader)\n",
    "    else:\n",
    "        trainer.fit(model, train_dataloader)\n",
    "\n",
    "    return model.metrics"
   ]
  },
  {
   "cell_type": "code",
   "execution_count": 4,
   "metadata": {},
   "outputs": [],
   "source": [
    "#| export\n",
    "def train_model_with_explicit_validation(model, train_data, train_labels, val_data, val_labels, config):\n",
    "    \"\"\"\n",
    "    Trains the given model using the provided data and configuration, with explicitly set validation data.\n",
    "\n",
    "    Parameters:\n",
    "    -----------\n",
    "    model : pl.LightningModule\n",
    "        The model to be trained.\n",
    "    \n",
    "    train_data : torch.Tensor or np.array\n",
    "        The input data (features) for training.\n",
    "    \n",
    "    train_labels : torch.Tensor or np.array\n",
    "        The corresponding labels for the training data.\n",
    "    \n",
    "    val_data : torch.Tensor or np.array\n",
    "        The input data (features) for validation.\n",
    "    \n",
    "    val_labels : torch.Tensor or np.array\n",
    "        The corresponding labels for the validation data.\n",
    "    \n",
    "    config : dict\n",
    "        Configuration dictionary containing training parameters like batch_size, epochs, etc.\n",
    "    \"\"\"\n",
    "\n",
    "    # Create PyTorch datasets\n",
    "    train_dataset = TensorDataset(torch.tensor(train_data), torch.tensor(train_labels))\n",
    "    val_dataset = TensorDataset(torch.tensor(val_data), torch.tensor(val_labels))\n",
    "\n",
    "    # Create DataLoaders\n",
    "    train_dataloader = DataLoader(train_dataset, batch_size=config['batch_size'], shuffle=True)\n",
    "    val_dataloader = DataLoader(val_dataset, batch_size=config['batch_size'])\n",
    "\n",
    "    # Initialize PyTorch Lightning Trainer\n",
    "    trainer = Trainer(\n",
    "        max_epochs=config['epochs'],\n",
    "        log_every_n_steps=10,\n",
    "        gpus=1 if torch.cuda.is_available() else 0\n",
    "    )\n",
    "\n",
    "    # Train the model\n",
    "    trainer.fit(model, train_dataloader, val_dataloader)\n",
    "\n",
    "    # Optionally return metrics (assuming they are logged within the model)\n",
    "    return model.metrics"
   ]
  },
  {
   "cell_type": "code",
   "execution_count": 5,
   "metadata": {},
   "outputs": [],
   "source": [
    "#| hide\n",
    "import nbdev; nbdev.nbdev_export()"
   ]
  }
 ],
 "metadata": {
  "kernelspec": {
   "display_name": "Python (PyTorch)",
   "language": "python",
   "name": "pytorch"
  },
  "language_info": {
   "codemirror_mode": {
    "name": "ipython",
    "version": 3
   },
   "file_extension": ".py",
   "mimetype": "text/x-python",
   "name": "python",
   "nbconvert_exporter": "python",
   "pygments_lexer": "ipython3",
   "version": "3.10.12"
  }
 },
 "nbformat": 4,
 "nbformat_minor": 2
}
