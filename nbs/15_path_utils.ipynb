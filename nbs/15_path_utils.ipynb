{
 "cells": [
  {
   "cell_type": "markdown",
   "metadata": {},
   "source": [
    "# Path Utils\n",
    "\n",
    "> Physical constants used in the project"
   ]
  },
  {
   "cell_type": "code",
   "execution_count": null,
   "metadata": {},
   "outputs": [],
   "source": [
    "#| default_exp path"
   ]
  },
  {
   "cell_type": "code",
   "execution_count": null,
   "metadata": {},
   "outputs": [],
   "source": [
    "#| export\n",
    "#| hide\n",
    "from pathlib import Path\n",
    "import os"
   ]
  },
  {
   "cell_type": "markdown",
   "metadata": {},
   "source": [
    "## Path Handling"
   ]
  },
  {
   "cell_type": "code",
   "execution_count": null,
   "metadata": {},
   "outputs": [],
   "source": [
    "#| export\n",
    "def get_project_root() -> Path:\n",
    "    \"\"\"\n",
    "    Get the project root directory by searching for settings.ini or setup.py files.\n",
    "    \"\"\"\n",
    "    # Try to find the root by looking for setup.py or settings.ini\n",
    "    current = Path(os.getcwd()).resolve()\n",
    "    \n",
    "    # Keep going up until we find settings.ini or hit the root\n",
    "    while current != current.parent:\n",
    "        if (current / 'settings.ini').exists():\n",
    "            return current\n",
    "        if (current / 'setup.py').exists():\n",
    "            return current\n",
    "        current = current.parent\n",
    "    \n",
    "    # If we're in a notebook in nbs/, the parent directory is the root\n",
    "    if 'nbs' in str(current):\n",
    "        return current.parent\n",
    "    \n",
    "    raise FileNotFoundError(\"Could not find project root directory\")\n",
    "\n",
    "def get_data_path() -> Path:\n",
    "    \"\"\"\n",
    "    Get the path to the data directory.\n",
    "    \"\"\"\n",
    "    return get_project_root() / 'data'\n",
    "\n",
    "def make_project_path(*parts: str,  # Path components to join\n",
    "                     ) -> Path:\n",
    "    \"\"\"\n",
    "    Create a path relative to the project root.\n",
    "    \"\"\"\n",
    "    return get_project_root().joinpath(*parts)\n",
    "\n",
    "def get_julia_file_path(filename: str,  # Name of the Julia file\n",
    "                       ) -> str:\n",
    "    \"\"\"\n",
    "    Get the absolute path to a Julia file in the project's julia directory.\n",
    "    \"\"\"\n",
    "    root = get_project_root()\n",
    "    return str(root / 'julia' / filename)"
   ]
  },
  {
   "cell_type": "code",
   "execution_count": null,
   "metadata": {},
   "outputs": [],
   "source": [
    "#| hide\n",
    "import nbdev; nbdev.nbdev_export()"
   ]
  }
 ],
 "metadata": {
  "kernelspec": {
   "display_name": "pytorch",
   "language": "python",
   "name": "pytorch"
  }
 },
 "nbformat": 4,
 "nbformat_minor": 2
}
